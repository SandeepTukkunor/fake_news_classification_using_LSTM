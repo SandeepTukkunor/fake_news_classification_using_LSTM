{
  "nbformat": 4,
  "nbformat_minor": 5,
  "metadata": {
    "kernelspec": {
      "display_name": "Python 3",
      "language": "python",
      "name": "python3"
    },
    "language_info": {
      "codemirror_mode": {
        "name": "ipython",
        "version": 3
      },
      "file_extension": ".py",
      "mimetype": "text/x-python",
      "name": "python",
      "nbconvert_exporter": "python",
      "pygments_lexer": "ipython3",
      "version": "3.7.10"
    },
    "papermill": {
      "default_parameters": {},
      "duration": 277.965256,
      "end_time": "2021-08-09T09:46:14.470870",
      "environment_variables": {},
      "exception": null,
      "input_path": "__notebook__.ipynb",
      "output_path": "__notebook__.ipynb",
      "parameters": {},
      "start_time": "2021-08-09T09:41:36.505614",
      "version": "2.3.3"
    },
    "colab": {
      "name": "classification-of-fake-news-with-lstm.ipynb",
      "provenance": []
    },
    "accelerator": "GPU"
  },
  "cells": [
    {
      "cell_type": "markdown",
      "metadata": {
        "papermill": {
          "duration": 0.036216,
          "end_time": "2021-08-09T09:41:43.771815",
          "exception": false,
          "start_time": "2021-08-09T09:41:43.735599",
          "status": "completed"
        },
        "tags": [],
        "id": "e65bcb69"
      },
      "source": [
        "## Import Required Libraries"
      ],
      "id": "e65bcb69"
    },
    {
      "cell_type": "code",
      "metadata": {
        "execution": {
          "iopub.execute_input": "2021-08-09T09:41:43.850399Z",
          "iopub.status.busy": "2021-08-09T09:41:43.849637Z",
          "iopub.status.idle": "2021-08-09T09:41:48.665875Z",
          "shell.execute_reply": "2021-08-09T09:41:48.664850Z",
          "shell.execute_reply.started": "2021-08-09T09:30:09.753609Z"
        },
        "papermill": {
          "duration": 4.86221,
          "end_time": "2021-08-09T09:41:48.666056",
          "exception": false,
          "start_time": "2021-08-09T09:41:43.803846",
          "status": "completed"
        },
        "tags": [],
        "id": "495136cb"
      },
      "source": [
        "import numpy as np\n",
        "import pandas as pd\n",
        "import matplotlib.pyplot as plt\n",
        "import seaborn as sns\n",
        "from datetime import datetime\n",
        "\n",
        "import warnings\n",
        "warnings.filterwarnings('ignore')\n",
        "\n",
        "import tensorflow as tf"
      ],
      "id": "495136cb",
      "execution_count": 1,
      "outputs": []
    },
    {
      "cell_type": "code",
      "metadata": {
        "execution": {
          "iopub.execute_input": "2021-08-09T09:41:48.743570Z",
          "iopub.status.busy": "2021-08-09T09:41:48.742927Z",
          "iopub.status.idle": "2021-08-09T09:41:49.495555Z",
          "shell.execute_reply": "2021-08-09T09:41:49.494578Z",
          "shell.execute_reply.started": "2021-08-09T09:30:14.697236Z"
        },
        "papermill": {
          "duration": 0.792655,
          "end_time": "2021-08-09T09:41:49.495720",
          "exception": false,
          "start_time": "2021-08-09T09:41:48.703065",
          "status": "completed"
        },
        "tags": [],
        "id": "85144455"
      },
      "source": [
        ""
      ],
      "id": "85144455",
      "execution_count": 36,
      "outputs": []
    },
    {
      "cell_type": "markdown",
      "metadata": {
        "papermill": {
          "duration": 0.036384,
          "end_time": "2021-08-09T09:41:49.567148",
          "exception": false,
          "start_time": "2021-08-09T09:41:49.530764",
          "status": "completed"
        },
        "tags": [],
        "id": "2ce151c7"
      },
      "source": [
        "## Load the dataset"
      ],
      "id": "2ce151c7"
    },
    {
      "cell_type": "markdown",
      "metadata": {
        "papermill": {
          "duration": 0.033671,
          "end_time": "2021-08-09T09:41:49.637327",
          "exception": false,
          "start_time": "2021-08-09T09:41:49.603656",
          "status": "completed"
        },
        "tags": [],
        "id": "c36a68b1"
      },
      "source": [
        "We will load the individual dataset, create a target attribute which will indicate '1' if the news is fake. Combine both the dataframes and create the combine dataframe for modelling"
      ],
      "id": "c36a68b1"
    },
    {
      "cell_type": "code",
      "metadata": {
        "execution": {
          "iopub.execute_input": "2021-08-09T09:41:49.714072Z",
          "iopub.status.busy": "2021-08-09T09:41:49.713476Z",
          "iopub.status.idle": "2021-08-09T09:41:51.467045Z",
          "shell.execute_reply": "2021-08-09T09:41:51.467492Z",
          "shell.execute_reply.started": "2021-08-09T09:30:15.547303Z"
        },
        "papermill": {
          "duration": 1.794716,
          "end_time": "2021-08-09T09:41:51.467656",
          "exception": false,
          "start_time": "2021-08-09T09:41:49.672940",
          "status": "completed"
        },
        "tags": [],
        "colab": {
          "base_uri": "https://localhost:8080/",
          "height": 206
        },
        "id": "3970b15c",
        "outputId": "9f6bcdd4-dba2-495d-f9ee-d419b2386fa2"
      },
      "source": [
        "# load the fake and real news datasets\n",
        "fake_news = pd.read_csv(\"https://raw.githubusercontent.com/SandeepTukkunor/fake_news_classification_using_LSTM/master/True.csv\")\n",
        "fake_news.head()"
      ],
      "id": "3970b15c",
      "execution_count": 2,
      "outputs": [
        {
          "output_type": "execute_result",
          "data": {
            "text/html": [
              "<div>\n",
              "<style scoped>\n",
              "    .dataframe tbody tr th:only-of-type {\n",
              "        vertical-align: middle;\n",
              "    }\n",
              "\n",
              "    .dataframe tbody tr th {\n",
              "        vertical-align: top;\n",
              "    }\n",
              "\n",
              "    .dataframe thead th {\n",
              "        text-align: right;\n",
              "    }\n",
              "</style>\n",
              "<table border=\"1\" class=\"dataframe\">\n",
              "  <thead>\n",
              "    <tr style=\"text-align: right;\">\n",
              "      <th></th>\n",
              "      <th>title</th>\n",
              "      <th>text</th>\n",
              "      <th>subject</th>\n",
              "      <th>date</th>\n",
              "    </tr>\n",
              "  </thead>\n",
              "  <tbody>\n",
              "    <tr>\n",
              "      <th>0</th>\n",
              "      <td>As U.S. budget fight looms, Republicans flip t...</td>\n",
              "      <td>WASHINGTON (Reuters) - The head of a conservat...</td>\n",
              "      <td>politicsNews</td>\n",
              "      <td>December 31, 2017</td>\n",
              "    </tr>\n",
              "    <tr>\n",
              "      <th>1</th>\n",
              "      <td>U.S. military to accept transgender recruits o...</td>\n",
              "      <td>WASHINGTON (Reuters) - Transgender people will...</td>\n",
              "      <td>politicsNews</td>\n",
              "      <td>December 29, 2017</td>\n",
              "    </tr>\n",
              "    <tr>\n",
              "      <th>2</th>\n",
              "      <td>Senior U.S. Republican senator: 'Let Mr. Muell...</td>\n",
              "      <td>WASHINGTON (Reuters) - The special counsel inv...</td>\n",
              "      <td>politicsNews</td>\n",
              "      <td>December 31, 2017</td>\n",
              "    </tr>\n",
              "    <tr>\n",
              "      <th>3</th>\n",
              "      <td>FBI Russia probe helped by Australian diplomat...</td>\n",
              "      <td>WASHINGTON (Reuters) - Trump campaign adviser ...</td>\n",
              "      <td>politicsNews</td>\n",
              "      <td>December 30, 2017</td>\n",
              "    </tr>\n",
              "    <tr>\n",
              "      <th>4</th>\n",
              "      <td>Trump wants Postal Service to charge 'much mor...</td>\n",
              "      <td>SEATTLE/WASHINGTON (Reuters) - President Donal...</td>\n",
              "      <td>politicsNews</td>\n",
              "      <td>December 29, 2017</td>\n",
              "    </tr>\n",
              "  </tbody>\n",
              "</table>\n",
              "</div>"
            ],
            "text/plain": [
              "                                               title  ...                date\n",
              "0  As U.S. budget fight looms, Republicans flip t...  ...  December 31, 2017 \n",
              "1  U.S. military to accept transgender recruits o...  ...  December 29, 2017 \n",
              "2  Senior U.S. Republican senator: 'Let Mr. Muell...  ...  December 31, 2017 \n",
              "3  FBI Russia probe helped by Australian diplomat...  ...  December 30, 2017 \n",
              "4  Trump wants Postal Service to charge 'much mor...  ...  December 29, 2017 \n",
              "\n",
              "[5 rows x 4 columns]"
            ]
          },
          "metadata": {
            "tags": []
          },
          "execution_count": 2
        }
      ]
    },
    {
      "cell_type": "code",
      "metadata": {
        "execution": {
          "iopub.execute_input": "2021-08-09T09:41:51.541220Z",
          "iopub.status.busy": "2021-08-09T09:41:51.540591Z",
          "iopub.status.idle": "2021-08-09T09:41:52.813844Z",
          "shell.execute_reply": "2021-08-09T09:41:52.813346Z",
          "shell.execute_reply.started": "2021-08-09T09:30:16.954723Z"
        },
        "papermill": {
          "duration": 1.311352,
          "end_time": "2021-08-09T09:41:52.813980",
          "exception": false,
          "start_time": "2021-08-09T09:41:51.502628",
          "status": "completed"
        },
        "tags": [],
        "colab": {
          "base_uri": "https://localhost:8080/",
          "height": 206
        },
        "id": "7b338a1b",
        "outputId": "334146f5-e664-4f69-a0f4-1ba274cd30b3"
      },
      "source": [
        "true_news = pd.read_csv(\"https://raw.githubusercontent.com/SandeepTukkunor/fake_news_classification_using_LSTM/master/True.csv\")\n",
        "true_news.head()"
      ],
      "id": "7b338a1b",
      "execution_count": 3,
      "outputs": [
        {
          "output_type": "execute_result",
          "data": {
            "text/html": [
              "<div>\n",
              "<style scoped>\n",
              "    .dataframe tbody tr th:only-of-type {\n",
              "        vertical-align: middle;\n",
              "    }\n",
              "\n",
              "    .dataframe tbody tr th {\n",
              "        vertical-align: top;\n",
              "    }\n",
              "\n",
              "    .dataframe thead th {\n",
              "        text-align: right;\n",
              "    }\n",
              "</style>\n",
              "<table border=\"1\" class=\"dataframe\">\n",
              "  <thead>\n",
              "    <tr style=\"text-align: right;\">\n",
              "      <th></th>\n",
              "      <th>title</th>\n",
              "      <th>text</th>\n",
              "      <th>subject</th>\n",
              "      <th>date</th>\n",
              "    </tr>\n",
              "  </thead>\n",
              "  <tbody>\n",
              "    <tr>\n",
              "      <th>0</th>\n",
              "      <td>As U.S. budget fight looms, Republicans flip t...</td>\n",
              "      <td>WASHINGTON (Reuters) - The head of a conservat...</td>\n",
              "      <td>politicsNews</td>\n",
              "      <td>December 31, 2017</td>\n",
              "    </tr>\n",
              "    <tr>\n",
              "      <th>1</th>\n",
              "      <td>U.S. military to accept transgender recruits o...</td>\n",
              "      <td>WASHINGTON (Reuters) - Transgender people will...</td>\n",
              "      <td>politicsNews</td>\n",
              "      <td>December 29, 2017</td>\n",
              "    </tr>\n",
              "    <tr>\n",
              "      <th>2</th>\n",
              "      <td>Senior U.S. Republican senator: 'Let Mr. Muell...</td>\n",
              "      <td>WASHINGTON (Reuters) - The special counsel inv...</td>\n",
              "      <td>politicsNews</td>\n",
              "      <td>December 31, 2017</td>\n",
              "    </tr>\n",
              "    <tr>\n",
              "      <th>3</th>\n",
              "      <td>FBI Russia probe helped by Australian diplomat...</td>\n",
              "      <td>WASHINGTON (Reuters) - Trump campaign adviser ...</td>\n",
              "      <td>politicsNews</td>\n",
              "      <td>December 30, 2017</td>\n",
              "    </tr>\n",
              "    <tr>\n",
              "      <th>4</th>\n",
              "      <td>Trump wants Postal Service to charge 'much mor...</td>\n",
              "      <td>SEATTLE/WASHINGTON (Reuters) - President Donal...</td>\n",
              "      <td>politicsNews</td>\n",
              "      <td>December 29, 2017</td>\n",
              "    </tr>\n",
              "  </tbody>\n",
              "</table>\n",
              "</div>"
            ],
            "text/plain": [
              "                                               title  ...                date\n",
              "0  As U.S. budget fight looms, Republicans flip t...  ...  December 31, 2017 \n",
              "1  U.S. military to accept transgender recruits o...  ...  December 29, 2017 \n",
              "2  Senior U.S. Republican senator: 'Let Mr. Muell...  ...  December 31, 2017 \n",
              "3  FBI Russia probe helped by Australian diplomat...  ...  December 30, 2017 \n",
              "4  Trump wants Postal Service to charge 'much mor...  ...  December 29, 2017 \n",
              "\n",
              "[5 rows x 4 columns]"
            ]
          },
          "metadata": {
            "tags": []
          },
          "execution_count": 3
        }
      ]
    },
    {
      "cell_type": "code",
      "metadata": {
        "execution": {
          "iopub.execute_input": "2021-08-09T09:41:52.899345Z",
          "iopub.status.busy": "2021-08-09T09:41:52.898712Z",
          "iopub.status.idle": "2021-08-09T09:41:52.904751Z",
          "shell.execute_reply": "2021-08-09T09:41:52.904275Z",
          "shell.execute_reply.started": "2021-08-09T09:30:18.006058Z"
        },
        "papermill": {
          "duration": 0.053149,
          "end_time": "2021-08-09T09:41:52.904880",
          "exception": false,
          "start_time": "2021-08-09T09:41:52.851731",
          "status": "completed"
        },
        "tags": [],
        "colab": {
          "base_uri": "https://localhost:8080/",
          "height": 206
        },
        "id": "2cfe56ed",
        "outputId": "798f1a1d-5b21-4922-a9b5-cad3b2850114"
      },
      "source": [
        "# Create a column with fake=1 in fake_news dataset\n",
        "fake_news['fake']=1\n",
        "fake_news.head()"
      ],
      "id": "2cfe56ed",
      "execution_count": 4,
      "outputs": [
        {
          "output_type": "execute_result",
          "data": {
            "text/html": [
              "<div>\n",
              "<style scoped>\n",
              "    .dataframe tbody tr th:only-of-type {\n",
              "        vertical-align: middle;\n",
              "    }\n",
              "\n",
              "    .dataframe tbody tr th {\n",
              "        vertical-align: top;\n",
              "    }\n",
              "\n",
              "    .dataframe thead th {\n",
              "        text-align: right;\n",
              "    }\n",
              "</style>\n",
              "<table border=\"1\" class=\"dataframe\">\n",
              "  <thead>\n",
              "    <tr style=\"text-align: right;\">\n",
              "      <th></th>\n",
              "      <th>title</th>\n",
              "      <th>text</th>\n",
              "      <th>subject</th>\n",
              "      <th>date</th>\n",
              "      <th>fake</th>\n",
              "    </tr>\n",
              "  </thead>\n",
              "  <tbody>\n",
              "    <tr>\n",
              "      <th>0</th>\n",
              "      <td>As U.S. budget fight looms, Republicans flip t...</td>\n",
              "      <td>WASHINGTON (Reuters) - The head of a conservat...</td>\n",
              "      <td>politicsNews</td>\n",
              "      <td>December 31, 2017</td>\n",
              "      <td>1</td>\n",
              "    </tr>\n",
              "    <tr>\n",
              "      <th>1</th>\n",
              "      <td>U.S. military to accept transgender recruits o...</td>\n",
              "      <td>WASHINGTON (Reuters) - Transgender people will...</td>\n",
              "      <td>politicsNews</td>\n",
              "      <td>December 29, 2017</td>\n",
              "      <td>1</td>\n",
              "    </tr>\n",
              "    <tr>\n",
              "      <th>2</th>\n",
              "      <td>Senior U.S. Republican senator: 'Let Mr. Muell...</td>\n",
              "      <td>WASHINGTON (Reuters) - The special counsel inv...</td>\n",
              "      <td>politicsNews</td>\n",
              "      <td>December 31, 2017</td>\n",
              "      <td>1</td>\n",
              "    </tr>\n",
              "    <tr>\n",
              "      <th>3</th>\n",
              "      <td>FBI Russia probe helped by Australian diplomat...</td>\n",
              "      <td>WASHINGTON (Reuters) - Trump campaign adviser ...</td>\n",
              "      <td>politicsNews</td>\n",
              "      <td>December 30, 2017</td>\n",
              "      <td>1</td>\n",
              "    </tr>\n",
              "    <tr>\n",
              "      <th>4</th>\n",
              "      <td>Trump wants Postal Service to charge 'much mor...</td>\n",
              "      <td>SEATTLE/WASHINGTON (Reuters) - President Donal...</td>\n",
              "      <td>politicsNews</td>\n",
              "      <td>December 29, 2017</td>\n",
              "      <td>1</td>\n",
              "    </tr>\n",
              "  </tbody>\n",
              "</table>\n",
              "</div>"
            ],
            "text/plain": [
              "                                               title  ... fake\n",
              "0  As U.S. budget fight looms, Republicans flip t...  ...    1\n",
              "1  U.S. military to accept transgender recruits o...  ...    1\n",
              "2  Senior U.S. Republican senator: 'Let Mr. Muell...  ...    1\n",
              "3  FBI Russia probe helped by Australian diplomat...  ...    1\n",
              "4  Trump wants Postal Service to charge 'much mor...  ...    1\n",
              "\n",
              "[5 rows x 5 columns]"
            ]
          },
          "metadata": {
            "tags": []
          },
          "execution_count": 4
        }
      ]
    },
    {
      "cell_type": "code",
      "metadata": {
        "execution": {
          "iopub.execute_input": "2021-08-09T09:41:52.991631Z",
          "iopub.status.busy": "2021-08-09T09:41:52.991015Z",
          "iopub.status.idle": "2021-08-09T09:41:52.995009Z",
          "shell.execute_reply": "2021-08-09T09:41:52.994548Z",
          "shell.execute_reply.started": "2021-08-09T09:30:18.023613Z"
        },
        "papermill": {
          "duration": 0.051662,
          "end_time": "2021-08-09T09:41:52.995130",
          "exception": false,
          "start_time": "2021-08-09T09:41:52.943468",
          "status": "completed"
        },
        "tags": [],
        "colab": {
          "base_uri": "https://localhost:8080/",
          "height": 206
        },
        "id": "8302c2f1",
        "outputId": "18789cfd-67ad-425a-eee8-1e59b5251117"
      },
      "source": [
        "# Create a column with fake=0 in true_news dataset\n",
        "true_news['fake'] = 0\n",
        "true_news.head()"
      ],
      "id": "8302c2f1",
      "execution_count": 5,
      "outputs": [
        {
          "output_type": "execute_result",
          "data": {
            "text/html": [
              "<div>\n",
              "<style scoped>\n",
              "    .dataframe tbody tr th:only-of-type {\n",
              "        vertical-align: middle;\n",
              "    }\n",
              "\n",
              "    .dataframe tbody tr th {\n",
              "        vertical-align: top;\n",
              "    }\n",
              "\n",
              "    .dataframe thead th {\n",
              "        text-align: right;\n",
              "    }\n",
              "</style>\n",
              "<table border=\"1\" class=\"dataframe\">\n",
              "  <thead>\n",
              "    <tr style=\"text-align: right;\">\n",
              "      <th></th>\n",
              "      <th>title</th>\n",
              "      <th>text</th>\n",
              "      <th>subject</th>\n",
              "      <th>date</th>\n",
              "      <th>fake</th>\n",
              "    </tr>\n",
              "  </thead>\n",
              "  <tbody>\n",
              "    <tr>\n",
              "      <th>0</th>\n",
              "      <td>As U.S. budget fight looms, Republicans flip t...</td>\n",
              "      <td>WASHINGTON (Reuters) - The head of a conservat...</td>\n",
              "      <td>politicsNews</td>\n",
              "      <td>December 31, 2017</td>\n",
              "      <td>0</td>\n",
              "    </tr>\n",
              "    <tr>\n",
              "      <th>1</th>\n",
              "      <td>U.S. military to accept transgender recruits o...</td>\n",
              "      <td>WASHINGTON (Reuters) - Transgender people will...</td>\n",
              "      <td>politicsNews</td>\n",
              "      <td>December 29, 2017</td>\n",
              "      <td>0</td>\n",
              "    </tr>\n",
              "    <tr>\n",
              "      <th>2</th>\n",
              "      <td>Senior U.S. Republican senator: 'Let Mr. Muell...</td>\n",
              "      <td>WASHINGTON (Reuters) - The special counsel inv...</td>\n",
              "      <td>politicsNews</td>\n",
              "      <td>December 31, 2017</td>\n",
              "      <td>0</td>\n",
              "    </tr>\n",
              "    <tr>\n",
              "      <th>3</th>\n",
              "      <td>FBI Russia probe helped by Australian diplomat...</td>\n",
              "      <td>WASHINGTON (Reuters) - Trump campaign adviser ...</td>\n",
              "      <td>politicsNews</td>\n",
              "      <td>December 30, 2017</td>\n",
              "      <td>0</td>\n",
              "    </tr>\n",
              "    <tr>\n",
              "      <th>4</th>\n",
              "      <td>Trump wants Postal Service to charge 'much mor...</td>\n",
              "      <td>SEATTLE/WASHINGTON (Reuters) - President Donal...</td>\n",
              "      <td>politicsNews</td>\n",
              "      <td>December 29, 2017</td>\n",
              "      <td>0</td>\n",
              "    </tr>\n",
              "  </tbody>\n",
              "</table>\n",
              "</div>"
            ],
            "text/plain": [
              "                                               title  ... fake\n",
              "0  As U.S. budget fight looms, Republicans flip t...  ...    0\n",
              "1  U.S. military to accept transgender recruits o...  ...    0\n",
              "2  Senior U.S. Republican senator: 'Let Mr. Muell...  ...    0\n",
              "3  FBI Russia probe helped by Australian diplomat...  ...    0\n",
              "4  Trump wants Postal Service to charge 'much mor...  ...    0\n",
              "\n",
              "[5 rows x 5 columns]"
            ]
          },
          "metadata": {
            "tags": []
          },
          "execution_count": 5
        }
      ]
    },
    {
      "cell_type": "code",
      "metadata": {
        "execution": {
          "iopub.execute_input": "2021-08-09T09:41:53.075556Z",
          "iopub.status.busy": "2021-08-09T09:41:53.074762Z",
          "iopub.status.idle": "2021-08-09T09:41:53.092463Z",
          "shell.execute_reply": "2021-08-09T09:41:53.092891Z",
          "shell.execute_reply.started": "2021-08-09T09:30:18.041242Z"
        },
        "papermill": {
          "duration": 0.059815,
          "end_time": "2021-08-09T09:41:53.093026",
          "exception": false,
          "start_time": "2021-08-09T09:41:53.033211",
          "status": "completed"
        },
        "tags": [],
        "colab": {
          "base_uri": "https://localhost:8080/",
          "height": 206
        },
        "id": "ffaad001",
        "outputId": "b94ee1f4-5412-4186-987c-8641200e4c36"
      },
      "source": [
        "# Concat two fake and true news\n",
        "news = pd.concat([fake_news, true_news])\n",
        "news.sample(5)"
      ],
      "id": "ffaad001",
      "execution_count": 6,
      "outputs": [
        {
          "output_type": "execute_result",
          "data": {
            "text/html": [
              "<div>\n",
              "<style scoped>\n",
              "    .dataframe tbody tr th:only-of-type {\n",
              "        vertical-align: middle;\n",
              "    }\n",
              "\n",
              "    .dataframe tbody tr th {\n",
              "        vertical-align: top;\n",
              "    }\n",
              "\n",
              "    .dataframe thead th {\n",
              "        text-align: right;\n",
              "    }\n",
              "</style>\n",
              "<table border=\"1\" class=\"dataframe\">\n",
              "  <thead>\n",
              "    <tr style=\"text-align: right;\">\n",
              "      <th></th>\n",
              "      <th>title</th>\n",
              "      <th>text</th>\n",
              "      <th>subject</th>\n",
              "      <th>date</th>\n",
              "      <th>fake</th>\n",
              "    </tr>\n",
              "  </thead>\n",
              "  <tbody>\n",
              "    <tr>\n",
              "      <th>8074</th>\n",
              "      <td>European Union asks Obama to stop 9/11 Saudi bill</td>\n",
              "      <td>WASHINGTON (Reuters) - The European Union on W...</td>\n",
              "      <td>politicsNews</td>\n",
              "      <td>September 21, 2016</td>\n",
              "      <td>0</td>\n",
              "    </tr>\n",
              "    <tr>\n",
              "      <th>4970</th>\n",
              "      <td>Boeing, aerospace manufacturers back U.S. tax ...</td>\n",
              "      <td>SEATTLE (Reuters) - Boeing Co and about 90 oth...</td>\n",
              "      <td>politicsNews</td>\n",
              "      <td>March 14, 2017</td>\n",
              "      <td>0</td>\n",
              "    </tr>\n",
              "    <tr>\n",
              "      <th>19822</th>\n",
              "      <td>U.N. chief: Northern Iraq vote would detract f...</td>\n",
              "      <td>UNITED NATIONS (Reuters) - United Nations Secr...</td>\n",
              "      <td>worldnews</td>\n",
              "      <td>September 17, 2017</td>\n",
              "      <td>1</td>\n",
              "    </tr>\n",
              "    <tr>\n",
              "      <th>14807</th>\n",
              "      <td>Alaska Airlines discontinues Los Angeles-Havan...</td>\n",
              "      <td>(Reuters) - U.S. airline Alaska Airlines on Tu...</td>\n",
              "      <td>worldnews</td>\n",
              "      <td>November 15, 2017</td>\n",
              "      <td>1</td>\n",
              "    </tr>\n",
              "    <tr>\n",
              "      <th>16294</th>\n",
              "      <td>EU Commission has no new comment on Catalonia ...</td>\n",
              "      <td>BRUSSELS (Reuters) - The European Commission s...</td>\n",
              "      <td>worldnews</td>\n",
              "      <td>October 27, 2017</td>\n",
              "      <td>1</td>\n",
              "    </tr>\n",
              "  </tbody>\n",
              "</table>\n",
              "</div>"
            ],
            "text/plain": [
              "                                                   title  ... fake\n",
              "8074   European Union asks Obama to stop 9/11 Saudi bill  ...    0\n",
              "4970   Boeing, aerospace manufacturers back U.S. tax ...  ...    0\n",
              "19822  U.N. chief: Northern Iraq vote would detract f...  ...    1\n",
              "14807  Alaska Airlines discontinues Los Angeles-Havan...  ...    1\n",
              "16294  EU Commission has no new comment on Catalonia ...  ...    1\n",
              "\n",
              "[5 rows x 5 columns]"
            ]
          },
          "metadata": {
            "tags": []
          },
          "execution_count": 6
        }
      ]
    },
    {
      "cell_type": "code",
      "metadata": {
        "execution": {
          "iopub.execute_input": "2021-08-09T09:41:53.190970Z",
          "iopub.status.busy": "2021-08-09T09:41:53.190047Z",
          "iopub.status.idle": "2021-08-09T09:41:53.196700Z",
          "shell.execute_reply": "2021-08-09T09:41:53.197226Z",
          "shell.execute_reply.started": "2021-08-09T09:30:18.064897Z"
        },
        "papermill": {
          "duration": 0.067611,
          "end_time": "2021-08-09T09:41:53.197354",
          "exception": false,
          "start_time": "2021-08-09T09:41:53.129743",
          "status": "completed"
        },
        "tags": [],
        "colab": {
          "base_uri": "https://localhost:8080/"
        },
        "id": "29b07cac",
        "outputId": "4730ddb5-7e8f-4a1a-a991-20797a85b3df"
      },
      "source": [
        "# Check for any null values\n",
        "news.isna().sum()"
      ],
      "id": "29b07cac",
      "execution_count": 7,
      "outputs": [
        {
          "output_type": "execute_result",
          "data": {
            "text/plain": [
              "title      0\n",
              "text       0\n",
              "subject    0\n",
              "date       0\n",
              "fake       0\n",
              "dtype: int64"
            ]
          },
          "metadata": {
            "tags": []
          },
          "execution_count": 7
        }
      ]
    },
    {
      "cell_type": "code",
      "metadata": {
        "execution": {
          "iopub.execute_input": "2021-08-09T09:41:53.297578Z",
          "iopub.status.busy": "2021-08-09T09:41:53.296630Z",
          "iopub.status.idle": "2021-08-09T09:41:53.312043Z",
          "shell.execute_reply": "2021-08-09T09:41:53.311598Z",
          "shell.execute_reply.started": "2021-08-09T09:30:18.096266Z"
        },
        "papermill": {
          "duration": 0.076944,
          "end_time": "2021-08-09T09:41:53.312188",
          "exception": false,
          "start_time": "2021-08-09T09:41:53.235244",
          "status": "completed"
        },
        "tags": [],
        "colab": {
          "base_uri": "https://localhost:8080/"
        },
        "id": "96a96932",
        "outputId": "7314473c-609f-498d-9d89-1a9f803df036"
      },
      "source": [
        "# Check the info\n",
        "news.info()"
      ],
      "id": "96a96932",
      "execution_count": 8,
      "outputs": [
        {
          "output_type": "stream",
          "text": [
            "<class 'pandas.core.frame.DataFrame'>\n",
            "Int64Index: 42834 entries, 0 to 21416\n",
            "Data columns (total 5 columns):\n",
            " #   Column   Non-Null Count  Dtype \n",
            "---  ------   --------------  ----- \n",
            " 0   title    42834 non-null  object\n",
            " 1   text     42834 non-null  object\n",
            " 2   subject  42834 non-null  object\n",
            " 3   date     42834 non-null  object\n",
            " 4   fake     42834 non-null  int64 \n",
            "dtypes: int64(1), object(4)\n",
            "memory usage: 2.0+ MB\n"
          ],
          "name": "stdout"
        }
      ]
    },
    {
      "cell_type": "markdown",
      "metadata": {
        "papermill": {
          "duration": 0.037886,
          "end_time": "2021-08-09T09:41:53.391787",
          "exception": false,
          "start_time": "2021-08-09T09:41:53.353901",
          "status": "completed"
        },
        "tags": [],
        "id": "e12e7b6a"
      },
      "source": [
        "## Exploratory Data Analysis and Data Visualizations"
      ],
      "id": "e12e7b6a"
    },
    {
      "cell_type": "code",
      "metadata": {
        "execution": {
          "iopub.execute_input": "2021-08-09T09:41:53.474057Z",
          "iopub.status.busy": "2021-08-09T09:41:53.473462Z",
          "iopub.status.idle": "2021-08-09T09:41:53.628458Z",
          "shell.execute_reply": "2021-08-09T09:41:53.628900Z",
          "shell.execute_reply.started": "2021-08-09T09:30:18.137115Z"
        },
        "papermill": {
          "duration": 0.199223,
          "end_time": "2021-08-09T09:41:53.629082",
          "exception": false,
          "start_time": "2021-08-09T09:41:53.429859",
          "status": "completed"
        },
        "tags": [],
        "colab": {
          "base_uri": "https://localhost:8080/",
          "height": 297
        },
        "id": "6a1fe60b",
        "outputId": "5bad8415-4cfc-4d87-f11a-ecc542b7e551"
      },
      "source": [
        "# Explore the target variable\n",
        "sns.countplot(x='fake', data=news)\n"
      ],
      "id": "6a1fe60b",
      "execution_count": 9,
      "outputs": [
        {
          "output_type": "execute_result",
          "data": {
            "text/plain": [
              "<matplotlib.axes._subplots.AxesSubplot at 0x7fc67944fa90>"
            ]
          },
          "metadata": {
            "tags": []
          },
          "execution_count": 9
        },
        {
          "output_type": "display_data",
          "data": {
            "image/png": "[encoded data removed]",
            "text/plain": [
              "<Figure size 432x288 with 1 Axes>"
            ]
          },
          "metadata": {
            "tags": [],
            "needs_background": "light"
          }
        }
      ]
    },
    {
      "cell_type": "code",
      "metadata": {
        "execution": {
          "iopub.execute_input": "2021-08-09T09:41:53.713165Z",
          "iopub.status.busy": "2021-08-09T09:41:53.712615Z",
          "iopub.status.idle": "2021-08-09T09:41:53.739582Z",
          "shell.execute_reply": "2021-08-09T09:41:53.740001Z",
          "shell.execute_reply.started": "2021-08-09T09:30:18.281290Z"
        },
        "papermill": {
          "duration": 0.069637,
          "end_time": "2021-08-09T09:41:53.740173",
          "exception": false,
          "start_time": "2021-08-09T09:41:53.670536",
          "status": "completed"
        },
        "tags": [],
        "colab": {
          "base_uri": "https://localhost:8080/"
        },
        "id": "299bd183",
        "outputId": "286e1eec-f658-45c3-8a98-6c46252cf5d6"
      },
      "source": [
        "# Explore 2 text for the fake dataset\n",
        "news[news['fake']==1]['text'].head(2)"
      ],
      "id": "299bd183",
      "execution_count": 10,
      "outputs": [
        {
          "output_type": "execute_result",
          "data": {
            "text/plain": [
              "0    WASHINGTON (Reuters) - The head of a conservat...\n",
              "1    WASHINGTON (Reuters) - Transgender people will...\n",
              "Name: text, dtype: object"
            ]
          },
          "metadata": {
            "tags": []
          },
          "execution_count": 10
        }
      ]
    },
    {
      "cell_type": "code",
      "metadata": {
        "execution": {
          "iopub.execute_input": "2021-08-09T09:41:53.824649Z",
          "iopub.status.busy": "2021-08-09T09:41:53.823841Z",
          "iopub.status.idle": "2021-08-09T09:41:53.831760Z",
          "shell.execute_reply": "2021-08-09T09:41:53.832188Z",
          "shell.execute_reply.started": "2021-08-09T09:30:18.308963Z"
        },
        "papermill": {
          "duration": 0.050589,
          "end_time": "2021-08-09T09:41:53.832318",
          "exception": false,
          "start_time": "2021-08-09T09:41:53.781729",
          "status": "completed"
        },
        "tags": [],
        "colab": {
          "base_uri": "https://localhost:8080/"
        },
        "id": "d4f5e4d8",
        "outputId": "0e62a9ce-2655-41df-840e-027c84b60ef5"
      },
      "source": [
        "# Explore 2 text for true news\n",
        "news[news['fake']==0]['text'].head(2)"
      ],
      "id": "d4f5e4d8",
      "execution_count": 11,
      "outputs": [
        {
          "output_type": "execute_result",
          "data": {
            "text/plain": [
              "0    WASHINGTON (Reuters) - The head of a conservat...\n",
              "1    WASHINGTON (Reuters) - Transgender people will...\n",
              "Name: text, dtype: object"
            ]
          },
          "metadata": {
            "tags": []
          },
          "execution_count": 11
        }
      ]
    },
    {
      "cell_type": "code",
      "metadata": {
        "execution": {
          "iopub.execute_input": "2021-08-09T09:41:53.952824Z",
          "iopub.status.busy": "2021-08-09T09:41:53.952029Z",
          "iopub.status.idle": "2021-08-09T09:41:54.242820Z",
          "shell.execute_reply": "2021-08-09T09:41:54.243243Z",
          "shell.execute_reply.started": "2021-08-09T09:30:18.322719Z"
        },
        "papermill": {
          "duration": 0.371419,
          "end_time": "2021-08-09T09:41:54.243388",
          "exception": false,
          "start_time": "2021-08-09T09:41:53.871969",
          "status": "completed"
        },
        "tags": [],
        "colab": {
          "base_uri": "https://localhost:8080/",
          "height": 352
        },
        "id": "e034429c",
        "outputId": "65659cec-3247-4e66-b875-d7728de1f8ae"
      },
      "source": [
        "# Explore the subject column\n",
        "plt.figure(figsize=(10,5))\n",
        "sns.countplot(x='subject', data=news, hue='fake')"
      ],
      "id": "e034429c",
      "execution_count": 12,
      "outputs": [
        {
          "output_type": "execute_result",
          "data": {
            "text/plain": [
              "<matplotlib.axes._subplots.AxesSubplot at 0x7fc6b7224e50>"
            ]
          },
          "metadata": {
            "tags": []
          },
          "execution_count": 12
        },
        {
          "output_type": "display_data",
          "data": {
            "image/png": "[encoded data removed]",
            "text/plain": [
              "<Figure size 720x360 with 1 Axes>"
            ]
          },
          "metadata": {
            "tags": [],
            "needs_background": "light"
          }
        }
      ]
    },
    {
      "cell_type": "markdown",
      "metadata": {
        "papermill": {
          "duration": 0.039959,
          "end_time": "2021-08-09T09:41:54.323933",
          "exception": false,
          "start_time": "2021-08-09T09:41:54.283974",
          "status": "completed"
        },
        "tags": [],
        "id": "105c4b2d"
      },
      "source": [
        "## Feature Engineering\n",
        "\n",
        "We will create a new columns calld Month and Year from Date and Analyse whether fake or true news has some correlation with Month or Year in the timeline"
      ],
      "id": "105c4b2d"
    },
    {
      "cell_type": "code",
      "metadata": {
        "execution": {
          "iopub.execute_input": "2021-08-09T09:41:54.413696Z",
          "iopub.status.busy": "2021-08-09T09:41:54.412940Z",
          "iopub.status.idle": "2021-08-09T09:41:54.691004Z",
          "shell.execute_reply": "2021-08-09T09:41:54.691616Z",
          "shell.execute_reply.started": "2021-08-09T09:30:18.622858Z"
        },
        "papermill": {
          "duration": 0.328153,
          "end_time": "2021-08-09T09:41:54.691787",
          "exception": false,
          "start_time": "2021-08-09T09:41:54.363634",
          "status": "completed"
        },
        "tags": [],
        "colab": {
          "base_uri": "https://localhost:8080/",
          "height": 206
        },
        "id": "5883d22c",
        "outputId": "508de4a2-81c1-4a28-daa9-d6450e95ee42"
      },
      "source": [
        "news['date'] = pd.to_datetime(news['date'], errors='coerce')\n",
        "news['Year'] = news['date'].dt.year\n",
        "news['Month'] = news['date'].dt.month\n",
        "\n",
        "news.head()"
      ],
      "id": "5883d22c",
      "execution_count": 13,
      "outputs": [
        {
          "output_type": "execute_result",
          "data": {
            "text/html": [
              "<div>\n",
              "<style scoped>\n",
              "    .dataframe tbody tr th:only-of-type {\n",
              "        vertical-align: middle;\n",
              "    }\n",
              "\n",
              "    .dataframe tbody tr th {\n",
              "        vertical-align: top;\n",
              "    }\n",
              "\n",
              "    .dataframe thead th {\n",
              "        text-align: right;\n",
              "    }\n",
              "</style>\n",
              "<table border=\"1\" class=\"dataframe\">\n",
              "  <thead>\n",
              "    <tr style=\"text-align: right;\">\n",
              "      <th></th>\n",
              "      <th>title</th>\n",
              "      <th>text</th>\n",
              "      <th>subject</th>\n",
              "      <th>date</th>\n",
              "      <th>fake</th>\n",
              "      <th>Year</th>\n",
              "      <th>Month</th>\n",
              "    </tr>\n",
              "  </thead>\n",
              "  <tbody>\n",
              "    <tr>\n",
              "      <th>0</th>\n",
              "      <td>As U.S. budget fight looms, Republicans flip t...</td>\n",
              "      <td>WASHINGTON (Reuters) - The head of a conservat...</td>\n",
              "      <td>politicsNews</td>\n",
              "      <td>2017-12-31</td>\n",
              "      <td>1</td>\n",
              "      <td>2017</td>\n",
              "      <td>12</td>\n",
              "    </tr>\n",
              "    <tr>\n",
              "      <th>1</th>\n",
              "      <td>U.S. military to accept transgender recruits o...</td>\n",
              "      <td>WASHINGTON (Reuters) - Transgender people will...</td>\n",
              "      <td>politicsNews</td>\n",
              "      <td>2017-12-29</td>\n",
              "      <td>1</td>\n",
              "      <td>2017</td>\n",
              "      <td>12</td>\n",
              "    </tr>\n",
              "    <tr>\n",
              "      <th>2</th>\n",
              "      <td>Senior U.S. Republican senator: 'Let Mr. Muell...</td>\n",
              "      <td>WASHINGTON (Reuters) - The special counsel inv...</td>\n",
              "      <td>politicsNews</td>\n",
              "      <td>2017-12-31</td>\n",
              "      <td>1</td>\n",
              "      <td>2017</td>\n",
              "      <td>12</td>\n",
              "    </tr>\n",
              "    <tr>\n",
              "      <th>3</th>\n",
              "      <td>FBI Russia probe helped by Australian diplomat...</td>\n",
              "      <td>WASHINGTON (Reuters) - Trump campaign adviser ...</td>\n",
              "      <td>politicsNews</td>\n",
              "      <td>2017-12-30</td>\n",
              "      <td>1</td>\n",
              "      <td>2017</td>\n",
              "      <td>12</td>\n",
              "    </tr>\n",
              "    <tr>\n",
              "      <th>4</th>\n",
              "      <td>Trump wants Postal Service to charge 'much mor...</td>\n",
              "      <td>SEATTLE/WASHINGTON (Reuters) - President Donal...</td>\n",
              "      <td>politicsNews</td>\n",
              "      <td>2017-12-29</td>\n",
              "      <td>1</td>\n",
              "      <td>2017</td>\n",
              "      <td>12</td>\n",
              "    </tr>\n",
              "  </tbody>\n",
              "</table>\n",
              "</div>"
            ],
            "text/plain": [
              "                                               title  ... Month\n",
              "0  As U.S. budget fight looms, Republicans flip t...  ...    12\n",
              "1  U.S. military to accept transgender recruits o...  ...    12\n",
              "2  Senior U.S. Republican senator: 'Let Mr. Muell...  ...    12\n",
              "3  FBI Russia probe helped by Australian diplomat...  ...    12\n",
              "4  Trump wants Postal Service to charge 'much mor...  ...    12\n",
              "\n",
              "[5 rows x 7 columns]"
            ]
          },
          "metadata": {
            "tags": []
          },
          "execution_count": 13
        }
      ]
    },
    {
      "cell_type": "code",
      "metadata": {
        "execution": {
          "iopub.execute_input": "2021-08-09T09:41:54.777201Z",
          "iopub.status.busy": "2021-08-09T09:41:54.776552Z",
          "iopub.status.idle": "2021-08-09T09:41:54.996187Z",
          "shell.execute_reply": "2021-08-09T09:41:54.996624Z",
          "shell.execute_reply.started": "2021-08-09T09:30:18.901023Z"
        },
        "papermill": {
          "duration": 0.263454,
          "end_time": "2021-08-09T09:41:54.996781",
          "exception": false,
          "start_time": "2021-08-09T09:41:54.733327",
          "status": "completed"
        },
        "tags": [],
        "colab": {
          "base_uri": "https://localhost:8080/",
          "height": 297
        },
        "id": "ea57dc77",
        "outputId": "160d6175-dfe8-49e4-c549-fd4d2fa724b5"
      },
      "source": [
        "# check the impact of yead on tha target\n",
        "sns.countplot(x='Year', data=news, hue='fake')"
      ],
      "id": "ea57dc77",
      "execution_count": 14,
      "outputs": [
        {
          "output_type": "execute_result",
          "data": {
            "text/plain": [
              "<matplotlib.axes._subplots.AxesSubplot at 0x7fc6768032d0>"
            ]
          },
          "metadata": {
            "tags": []
          },
          "execution_count": 14
        },
        {
          "output_type": "display_data",
          "data": {
            "image/png": "[encoded data removed]",
            "text/plain": [
              "<Figure size 432x288 with 1 Axes>"
            ]
          },
          "metadata": {
            "tags": [],
            "needs_background": "light"
          }
        }
      ]
    },
    {
      "cell_type": "code",
      "metadata": {
        "execution": {
          "iopub.execute_input": "2021-08-09T09:41:55.087042Z",
          "iopub.status.busy": "2021-08-09T09:41:55.086524Z",
          "iopub.status.idle": "2021-08-09T09:41:55.397264Z",
          "shell.execute_reply": "2021-08-09T09:41:55.396314Z",
          "shell.execute_reply.started": "2021-08-09T09:30:19.115651Z"
        },
        "papermill": {
          "duration": 0.355049,
          "end_time": "2021-08-09T09:41:55.397405",
          "exception": false,
          "start_time": "2021-08-09T09:41:55.042356",
          "status": "completed"
        },
        "tags": [],
        "colab": {
          "base_uri": "https://localhost:8080/",
          "height": 297
        },
        "id": "97dc2abb",
        "outputId": "08dfdf0b-5bfd-47dd-9f90-fd79e202559e"
      },
      "source": [
        "# Check the impact of Month on the target variable\n",
        "sns.countplot(x='Month', data=news, hue='fake')"
      ],
      "id": "97dc2abb",
      "execution_count": 15,
      "outputs": [
        {
          "output_type": "execute_result",
          "data": {
            "text/plain": [
              "<matplotlib.axes._subplots.AxesSubplot at 0x7fc6767dd150>"
            ]
          },
          "metadata": {
            "tags": []
          },
          "execution_count": 15
        },
        {
          "output_type": "display_data",
          "data": {
            "image/png": "[encoded data removed]",
            "text/plain": [
              "<Figure size 432x288 with 1 Axes>"
            ]
          },
          "metadata": {
            "tags": [],
            "needs_background": "light"
          }
        }
      ]
    },
    {
      "cell_type": "markdown",
      "metadata": {
        "papermill": {
          "duration": 0.044305,
          "end_time": "2021-08-09T09:41:55.483381",
          "exception": false,
          "start_time": "2021-08-09T09:41:55.439076",
          "status": "completed"
        },
        "tags": [],
        "id": "7c1b6b75"
      },
      "source": [
        "**We will combine the title and text column**"
      ],
      "id": "7c1b6b75"
    },
    {
      "cell_type": "code",
      "metadata": {
        "execution": {
          "iopub.execute_input": "2021-08-09T09:41:55.712162Z",
          "iopub.status.busy": "2021-08-09T09:41:55.707251Z",
          "iopub.status.idle": "2021-08-09T09:41:55.730098Z",
          "shell.execute_reply": "2021-08-09T09:41:55.730588Z",
          "shell.execute_reply.started": "2021-08-09T09:30:19.592378Z"
        },
        "papermill": {
          "duration": 0.20792,
          "end_time": "2021-08-09T09:41:55.730779",
          "exception": false,
          "start_time": "2021-08-09T09:41:55.522859",
          "status": "completed"
        },
        "tags": [],
        "colab": {
          "base_uri": "https://localhost:8080/",
          "height": 206
        },
        "id": "18bab09c",
        "outputId": "3b1fa9cc-70cb-47bd-ec85-9b2d99a93260"
      },
      "source": [
        "news['text'] = news['title'] + news['text']\n",
        "news.drop(labels=['title'], axis=1,inplace=True)\n",
        "news.head()"
      ],
      "id": "18bab09c",
      "execution_count": 16,
      "outputs": [
        {
          "output_type": "execute_result",
          "data": {
            "text/html": [
              "<div>\n",
              "<style scoped>\n",
              "    .dataframe tbody tr th:only-of-type {\n",
              "        vertical-align: middle;\n",
              "    }\n",
              "\n",
              "    .dataframe tbody tr th {\n",
              "        vertical-align: top;\n",
              "    }\n",
              "\n",
              "    .dataframe thead th {\n",
              "        text-align: right;\n",
              "    }\n",
              "</style>\n",
              "<table border=\"1\" class=\"dataframe\">\n",
              "  <thead>\n",
              "    <tr style=\"text-align: right;\">\n",
              "      <th></th>\n",
              "      <th>text</th>\n",
              "      <th>subject</th>\n",
              "      <th>date</th>\n",
              "      <th>fake</th>\n",
              "      <th>Year</th>\n",
              "      <th>Month</th>\n",
              "    </tr>\n",
              "  </thead>\n",
              "  <tbody>\n",
              "    <tr>\n",
              "      <th>0</th>\n",
              "      <td>As U.S. budget fight looms, Republicans flip t...</td>\n",
              "      <td>politicsNews</td>\n",
              "      <td>2017-12-31</td>\n",
              "      <td>1</td>\n",
              "      <td>2017</td>\n",
              "      <td>12</td>\n",
              "    </tr>\n",
              "    <tr>\n",
              "      <th>1</th>\n",
              "      <td>U.S. military to accept transgender recruits o...</td>\n",
              "      <td>politicsNews</td>\n",
              "      <td>2017-12-29</td>\n",
              "      <td>1</td>\n",
              "      <td>2017</td>\n",
              "      <td>12</td>\n",
              "    </tr>\n",
              "    <tr>\n",
              "      <th>2</th>\n",
              "      <td>Senior U.S. Republican senator: 'Let Mr. Muell...</td>\n",
              "      <td>politicsNews</td>\n",
              "      <td>2017-12-31</td>\n",
              "      <td>1</td>\n",
              "      <td>2017</td>\n",
              "      <td>12</td>\n",
              "    </tr>\n",
              "    <tr>\n",
              "      <th>3</th>\n",
              "      <td>FBI Russia probe helped by Australian diplomat...</td>\n",
              "      <td>politicsNews</td>\n",
              "      <td>2017-12-30</td>\n",
              "      <td>1</td>\n",
              "      <td>2017</td>\n",
              "      <td>12</td>\n",
              "    </tr>\n",
              "    <tr>\n",
              "      <th>4</th>\n",
              "      <td>Trump wants Postal Service to charge 'much mor...</td>\n",
              "      <td>politicsNews</td>\n",
              "      <td>2017-12-29</td>\n",
              "      <td>1</td>\n",
              "      <td>2017</td>\n",
              "      <td>12</td>\n",
              "    </tr>\n",
              "  </tbody>\n",
              "</table>\n",
              "</div>"
            ],
            "text/plain": [
              "                                                text       subject  ...  Year  Month\n",
              "0  As U.S. budget fight looms, Republicans flip t...  politicsNews  ...  2017     12\n",
              "1  U.S. military to accept transgender recruits o...  politicsNews  ...  2017     12\n",
              "2  Senior U.S. Republican senator: 'Let Mr. Muell...  politicsNews  ...  2017     12\n",
              "3  FBI Russia probe helped by Australian diplomat...  politicsNews  ...  2017     12\n",
              "4  Trump wants Postal Service to charge 'much mor...  politicsNews  ...  2017     12\n",
              "\n",
              "[5 rows x 6 columns]"
            ]
          },
          "metadata": {
            "tags": []
          },
          "execution_count": 16
        }
      ]
    },
    {
      "cell_type": "markdown",
      "metadata": {
        "papermill": {
          "duration": 0.042838,
          "end_time": "2021-08-09T09:41:55.822092",
          "exception": false,
          "start_time": "2021-08-09T09:41:55.779254",
          "status": "completed"
        },
        "tags": [],
        "id": "766032b8"
      },
      "source": [
        "## Preparing the final data\n",
        "\n",
        "We will remove the subject attribute - Since it perfectly distributes the target variable We will remove the Year attribute - This also has a clear division for the target variable We will remove the Month Attribute - This also has a very clear approach of demarcating the target variable\n",
        "\n",
        "For now we will just go ahead with the \"text attribute\""
      ],
      "id": "766032b8"
    },
    {
      "cell_type": "code",
      "metadata": {
        "execution": {
          "iopub.execute_input": "2021-08-09T09:41:55.922522Z",
          "iopub.status.busy": "2021-08-09T09:41:55.915590Z",
          "iopub.status.idle": "2021-08-09T09:41:55.927530Z",
          "shell.execute_reply": "2021-08-09T09:41:55.927066Z",
          "shell.execute_reply.started": "2021-08-09T09:30:19.755577Z"
        },
        "papermill": {
          "duration": 0.063456,
          "end_time": "2021-08-09T09:41:55.927663",
          "exception": false,
          "start_time": "2021-08-09T09:41:55.864207",
          "status": "completed"
        },
        "tags": [],
        "colab": {
          "base_uri": "https://localhost:8080/",
          "height": 206
        },
        "id": "4c9914dd",
        "outputId": "57033faf-ae34-4b82-b175-6b0150a7a300"
      },
      "source": [
        "news.drop(labels=['subject','date', 'Year','Month'], axis=1, inplace=True)\n",
        "news.head()"
      ],
      "id": "4c9914dd",
      "execution_count": 17,
      "outputs": [
        {
          "output_type": "execute_result",
          "data": {
            "text/html": [
              "<div>\n",
              "<style scoped>\n",
              "    .dataframe tbody tr th:only-of-type {\n",
              "        vertical-align: middle;\n",
              "    }\n",
              "\n",
              "    .dataframe tbody tr th {\n",
              "        vertical-align: top;\n",
              "    }\n",
              "\n",
              "    .dataframe thead th {\n",
              "        text-align: right;\n",
              "    }\n",
              "</style>\n",
              "<table border=\"1\" class=\"dataframe\">\n",
              "  <thead>\n",
              "    <tr style=\"text-align: right;\">\n",
              "      <th></th>\n",
              "      <th>text</th>\n",
              "      <th>fake</th>\n",
              "    </tr>\n",
              "  </thead>\n",
              "  <tbody>\n",
              "    <tr>\n",
              "      <th>0</th>\n",
              "      <td>As U.S. budget fight looms, Republicans flip t...</td>\n",
              "      <td>1</td>\n",
              "    </tr>\n",
              "    <tr>\n",
              "      <th>1</th>\n",
              "      <td>U.S. military to accept transgender recruits o...</td>\n",
              "      <td>1</td>\n",
              "    </tr>\n",
              "    <tr>\n",
              "      <th>2</th>\n",
              "      <td>Senior U.S. Republican senator: 'Let Mr. Muell...</td>\n",
              "      <td>1</td>\n",
              "    </tr>\n",
              "    <tr>\n",
              "      <th>3</th>\n",
              "      <td>FBI Russia probe helped by Australian diplomat...</td>\n",
              "      <td>1</td>\n",
              "    </tr>\n",
              "    <tr>\n",
              "      <th>4</th>\n",
              "      <td>Trump wants Postal Service to charge 'much mor...</td>\n",
              "      <td>1</td>\n",
              "    </tr>\n",
              "  </tbody>\n",
              "</table>\n",
              "</div>"
            ],
            "text/plain": [
              "                                                text  fake\n",
              "0  As U.S. budget fight looms, Republicans flip t...     1\n",
              "1  U.S. military to accept transgender recruits o...     1\n",
              "2  Senior U.S. Republican senator: 'Let Mr. Muell...     1\n",
              "3  FBI Russia probe helped by Australian diplomat...     1\n",
              "4  Trump wants Postal Service to charge 'much mor...     1"
            ]
          },
          "metadata": {
            "tags": []
          },
          "execution_count": 17
        }
      ]
    },
    {
      "cell_type": "markdown",
      "metadata": {
        "papermill": {
          "duration": 0.043404,
          "end_time": "2021-08-09T09:41:56.013502",
          "exception": false,
          "start_time": "2021-08-09T09:41:55.970098",
          "status": "completed"
        },
        "tags": [],
        "id": "589d82a8"
      },
      "source": [
        "## Split the dataset into training and testing"
      ],
      "id": "589d82a8"
    },
    {
      "cell_type": "code",
      "metadata": {
        "execution": {
          "iopub.execute_input": "2021-08-09T09:41:56.107784Z",
          "iopub.status.busy": "2021-08-09T09:41:56.106935Z",
          "iopub.status.idle": "2021-08-09T09:41:56.120347Z",
          "shell.execute_reply": "2021-08-09T09:41:56.120911Z",
          "shell.execute_reply.started": "2021-08-09T09:30:19.771245Z"
        },
        "papermill": {
          "duration": 0.064259,
          "end_time": "2021-08-09T09:41:56.121051",
          "exception": false,
          "start_time": "2021-08-09T09:41:56.056792",
          "status": "completed"
        },
        "tags": [],
        "colab": {
          "base_uri": "https://localhost:8080/",
          "height": 206
        },
        "id": "9e99643f",
        "outputId": "891e33f6-497f-4300-ad89-61ea5c7e66ec"
      },
      "source": [
        "# We will shuffle the dataframe and extract the feature and label\n",
        "news = news.sample(frac=1)\n",
        "news.head()"
      ],
      "id": "9e99643f",
      "execution_count": 18,
      "outputs": [
        {
          "output_type": "execute_result",
          "data": {
            "text/html": [
              "<div>\n",
              "<style scoped>\n",
              "    .dataframe tbody tr th:only-of-type {\n",
              "        vertical-align: middle;\n",
              "    }\n",
              "\n",
              "    .dataframe tbody tr th {\n",
              "        vertical-align: top;\n",
              "    }\n",
              "\n",
              "    .dataframe thead th {\n",
              "        text-align: right;\n",
              "    }\n",
              "</style>\n",
              "<table border=\"1\" class=\"dataframe\">\n",
              "  <thead>\n",
              "    <tr style=\"text-align: right;\">\n",
              "      <th></th>\n",
              "      <th>text</th>\n",
              "      <th>fake</th>\n",
              "    </tr>\n",
              "  </thead>\n",
              "  <tbody>\n",
              "    <tr>\n",
              "      <th>15155</th>\n",
              "      <td>Lebanon's grand mufti calls for national unity...</td>\n",
              "      <td>1</td>\n",
              "    </tr>\n",
              "    <tr>\n",
              "      <th>21264</th>\n",
              "      <td>Iran rejects U.S. demand for U.N. visit to mil...</td>\n",
              "      <td>1</td>\n",
              "    </tr>\n",
              "    <tr>\n",
              "      <th>13096</th>\n",
              "      <td>Trump speaking by phone with Israel's Netanyah...</td>\n",
              "      <td>1</td>\n",
              "    </tr>\n",
              "    <tr>\n",
              "      <th>19478</th>\n",
              "      <td>North Korea says sanctions threaten survival o...</td>\n",
              "      <td>1</td>\n",
              "    </tr>\n",
              "    <tr>\n",
              "      <th>14146</th>\n",
              "      <td>Italian left's efforts to stop migrants may ba...</td>\n",
              "      <td>0</td>\n",
              "    </tr>\n",
              "  </tbody>\n",
              "</table>\n",
              "</div>"
            ],
            "text/plain": [
              "                                                    text  fake\n",
              "15155  Lebanon's grand mufti calls for national unity...     1\n",
              "21264  Iran rejects U.S. demand for U.N. visit to mil...     1\n",
              "13096  Trump speaking by phone with Israel's Netanyah...     1\n",
              "19478  North Korea says sanctions threaten survival o...     1\n",
              "14146  Italian left's efforts to stop migrants may ba...     0"
            ]
          },
          "metadata": {
            "tags": []
          },
          "execution_count": 18
        }
      ]
    },
    {
      "cell_type": "code",
      "metadata": {
        "execution": {
          "iopub.execute_input": "2021-08-09T09:41:56.215206Z",
          "iopub.status.busy": "2021-08-09T09:41:56.214264Z",
          "iopub.status.idle": "2021-08-09T09:41:56.539892Z",
          "shell.execute_reply": "2021-08-09T09:41:56.538778Z",
          "shell.execute_reply.started": "2021-08-09T09:30:19.789729Z"
        },
        "papermill": {
          "duration": 0.376075,
          "end_time": "2021-08-09T09:41:56.540020",
          "exception": false,
          "start_time": "2021-08-09T09:41:56.163945",
          "status": "completed"
        },
        "tags": [],
        "id": "880085a2"
      },
      "source": [
        "# Split the dataset into training and testing\n",
        "from sklearn.model_selection import train_test_split\n",
        "\n",
        "train_sentences, val_sentences, train_labels, val_labels=train_test_split(news['text'].to_numpy(),\n",
        "                                                                            news['fake'].to_numpy(),\n",
        "                                                                            test_size=0.2,\n",
        "                                                                            random_state=42)\n"
      ],
      "id": "880085a2",
      "execution_count": 19,
      "outputs": []
    },
    {
      "cell_type": "code",
      "metadata": {
        "execution": {
          "iopub.execute_input": "2021-08-09T09:41:56.629124Z",
          "iopub.status.busy": "2021-08-09T09:41:56.628402Z",
          "iopub.status.idle": "2021-08-09T09:41:56.631885Z",
          "shell.execute_reply": "2021-08-09T09:41:56.631494Z",
          "shell.execute_reply.started": "2021-08-09T09:30:19.946382Z"
        },
        "papermill": {
          "duration": 0.049998,
          "end_time": "2021-08-09T09:41:56.631995",
          "exception": false,
          "start_time": "2021-08-09T09:41:56.581997",
          "status": "completed"
        },
        "tags": [],
        "colab": {
          "base_uri": "https://localhost:8080/"
        },
        "id": "0806140e",
        "outputId": "928fdc27-1cb0-493b-d42a-9114b06cd9d5"
      },
      "source": [
        "len(train_sentences),len(val_sentences),len(train_labels),len(val_labels)"
      ],
      "id": "0806140e",
      "execution_count": 20,
      "outputs": [
        {
          "output_type": "execute_result",
          "data": {
            "text/plain": [
              "(34267, 8567, 34267, 8567)"
            ]
          },
          "metadata": {
            "tags": []
          },
          "execution_count": 20
        }
      ]
    },
    {
      "cell_type": "code",
      "metadata": {
        "execution": {
          "iopub.execute_input": "2021-08-09T09:41:56.719724Z",
          "iopub.status.busy": "2021-08-09T09:41:56.718831Z",
          "iopub.status.idle": "2021-08-09T09:41:56.722878Z",
          "shell.execute_reply": "2021-08-09T09:41:56.722480Z",
          "shell.execute_reply.started": "2021-08-09T09:30:19.956653Z"
        },
        "papermill": {
          "duration": 0.049661,
          "end_time": "2021-08-09T09:41:56.722985",
          "exception": false,
          "start_time": "2021-08-09T09:41:56.673324",
          "status": "completed"
        },
        "tags": [],
        "colab": {
          "base_uri": "https://localhost:8080/"
        },
        "id": "263261bd",
        "outputId": "558e3c6b-234e-4b52-deb8-265a1bb1b168"
      },
      "source": [
        "# Check the first 10 samples\n",
        "train_sentences[:2], train_labels[:10]"
      ],
      "id": "263261bd",
      "execution_count": 21,
      "outputs": [
        {
          "output_type": "execute_result",
          "data": {
            "text/plain": [
              "(array(['Brexit campaigner Farage to attend Trump inaugurationLONDON (Reuters) - Leading Brexit campaigner Nigel Farage, who has said he wants to be a bridge between the British government and the new U.S. administration, will attend U.S. President-elect Donald Trump’s inauguration later this month. Farage, who will attend the event as a guest of Mississippi Governor Phil Bryant, spoke at a Trump rally in Mississippi during the U.S. presidential campaign and was the first British politician to meet the president-elect after his victory, ahead of Prime Minister Theresa May. Farage spent decades campaigning for Britain to leave the European Union and helped to force then Prime Minister David Cameron to call the June 2016 referendum that resulted in the Brexit vote. Trump has said Farage - the former leader of the United Kingdom Independence Party (UKIP) - would be great as Britain’s envoy to Washington, but the British government has dismissed the suggestion. Asked if he would be attending Trump’s inauguration on Jan. 20, Farage told Sky News: “I certainly am, I can’t wait.” “The governor of Mississippi has invited me and I’m there for a few days and it’s going to be a great, historic event. In America they’ve had a political revolution and it’s complete; the problem in Britain is our revolution is not complete because the same people are still in charge.”  ',\n",
              "        'Presidential race tightens in Florida, Ohio, ArizonaNEW YORK (Reuters) - The U.S. presidential race tightened in a number of traditional battleground states, though Democrat Hillary Clinton remained the favorite to win the White House, according to the latest Reuters/Ipsos States of the Nation project poll released on Monday. The project, which uses a national online opinion poll of more than 15,000 people, showed that, as of Thursday, Clinton and Republican rival Donald Trump were running nearly even in support in Florida and Ohio: states where she had held an advantage. Arizona, where Trump had held an advantage, was also considered a toss-up. Meanwhile, Maine, Oregon and Pennsylvania were considered states that Clinton would likely win. They had previously been considered toss-ups. Overall, the project showed that Clinton continued to hold the advantage over Trump in the Electoral College, the body that ultimately picks the president.  If the U.S. presidential election were held today, Clinton would lead Trump 246 to 180 in the Electoral College, and had an 88 percent chance of gaining the 270 electoral votes needed to become the U.S. chief executive. A separate Reuters/Ipsos online poll showed that a majority of Americans felt that Clinton won last week’s presidential debate. Over the past several weeks, the Democrat had maintained a lead of 4 to 5 percentage points in support over Trump among likely voters. '],\n",
              "       dtype=object), array([1, 1, 1, 0, 0, 0, 0, 1, 1, 1]))"
            ]
          },
          "metadata": {
            "tags": []
          },
          "execution_count": 21
        }
      ]
    },
    {
      "cell_type": "markdown",
      "metadata": {
        "papermill": {
          "duration": 0.041297,
          "end_time": "2021-08-09T09:41:56.805626",
          "exception": false,
          "start_time": "2021-08-09T09:41:56.764329",
          "status": "completed"
        },
        "tags": [],
        "id": "d7c2a37e"
      },
      "source": [
        "## Converting text into numbers\n",
        "When dealing with a text problem, one of the first things you'll have to do before you cna build a model is to covert your text to numbers.\n",
        "\n",
        "There are a few ways to do this, namely:\n",
        "\n",
        "* Tokenization -direct mapping of token (a token could be a word or a character ) to a number.\n",
        "* Embedding - create a matrix of feature vector for each token (the size of the feature vector can be defined and this embedding can be learned).\n"
      ],
      "id": "d7c2a37e"
    },
    {
      "cell_type": "markdown",
      "metadata": {
        "papermill": {
          "duration": 0.040626,
          "end_time": "2021-08-09T09:41:56.887323",
          "exception": false,
          "start_time": "2021-08-09T09:41:56.846697",
          "status": "completed"
        },
        "tags": [],
        "id": "cb02a089"
      },
      "source": [
        "## Text Vectorization (tokenization)"
      ],
      "id": "cb02a089"
    },
    {
      "cell_type": "code",
      "metadata": {
        "execution": {
          "iopub.execute_input": "2021-08-09T09:41:57.023616Z",
          "iopub.status.busy": "2021-08-09T09:41:57.022720Z",
          "iopub.status.idle": "2021-08-09T09:41:58.111630Z",
          "shell.execute_reply": "2021-08-09T09:41:58.111142Z",
          "shell.execute_reply.started": "2021-08-09T09:30:19.967756Z"
        },
        "papermill": {
          "duration": 1.16824,
          "end_time": "2021-08-09T09:41:58.111758",
          "exception": false,
          "start_time": "2021-08-09T09:41:56.943518",
          "status": "completed"
        },
        "tags": [],
        "colab": {
          "base_uri": "https://localhost:8080/"
        },
        "id": "91a29cfe",
        "outputId": "57a53dde-b5d0-4e1c-ffaf-af4e91f203d2"
      },
      "source": [
        "# find the average number of tokens (words) in the training tweets\n",
        "round(sum([len(i.split()) for i in train_sentences])/len(train_sentences))"
      ],
      "id": "91a29cfe",
      "execution_count": 22,
      "outputs": [
        {
          "output_type": "execute_result",
          "data": {
            "text/plain": [
              "395"
            ]
          },
          "metadata": {
            "tags": []
          },
          "execution_count": 22
        }
      ]
    },
    {
      "cell_type": "code",
      "metadata": {
        "execution": {
          "iopub.execute_input": "2021-08-09T09:41:58.201415Z",
          "iopub.status.busy": "2021-08-09T09:41:58.200828Z",
          "iopub.status.idle": "2021-08-09T09:41:59.784568Z",
          "shell.execute_reply": "2021-08-09T09:41:59.784062Z",
          "shell.execute_reply.started": "2021-08-09T09:30:20.888969Z"
        },
        "papermill": {
          "duration": 1.63028,
          "end_time": "2021-08-09T09:41:59.784724",
          "exception": false,
          "start_time": "2021-08-09T09:41:58.154444",
          "status": "completed"
        },
        "tags": [],
        "id": "bc07ff70"
      },
      "source": [
        "# Setup text vectorization variables\n",
        "max_vocab_length = 10000\n",
        "max_length = 418\n",
        "\n",
        "\n",
        "from tensorflow.keras.layers.experimental.preprocessing import TextVectorization\n",
        "text_vectorizer = TextVectorization(max_tokens=max_vocab_length,\n",
        "                                   output_mode='int',\n",
        "                                   output_sequence_length=max_length)"
      ],
      "id": "bc07ff70",
      "execution_count": 23,
      "outputs": []
    },
    {
      "cell_type": "code",
      "metadata": {
        "execution": {
          "iopub.execute_input": "2021-08-09T09:42:00.028744Z",
          "iopub.status.busy": "2021-08-09T09:42:00.027929Z",
          "iopub.status.idle": "2021-08-09T09:42:09.244741Z",
          "shell.execute_reply": "2021-08-09T09:42:09.243825Z",
          "shell.execute_reply.started": "2021-08-09T09:30:22.577567Z"
        },
        "papermill": {
          "duration": 9.417453,
          "end_time": "2021-08-09T09:42:09.244873",
          "exception": false,
          "start_time": "2021-08-09T09:41:59.827420",
          "status": "completed"
        },
        "tags": [],
        "id": "0822caa8"
      },
      "source": [
        "# Fit the text vectorizer to the training text\n",
        "text_vectorizer.adapt(train_sentences)"
      ],
      "id": "0822caa8",
      "execution_count": 24,
      "outputs": []
    },
    {
      "cell_type": "code",
      "metadata": {
        "execution": {
          "iopub.execute_input": "2021-08-09T09:42:09.336375Z",
          "iopub.status.busy": "2021-08-09T09:42:09.335489Z",
          "iopub.status.idle": "2021-08-09T09:42:09.365384Z",
          "shell.execute_reply": "2021-08-09T09:42:09.364958Z",
          "shell.execute_reply.started": "2021-08-09T09:30:32.570425Z"
        },
        "papermill": {
          "duration": 0.07942,
          "end_time": "2021-08-09T09:42:09.365499",
          "exception": false,
          "start_time": "2021-08-09T09:42:09.286079",
          "status": "completed"
        },
        "tags": [],
        "colab": {
          "base_uri": "https://localhost:8080/"
        },
        "id": "7a4fad08",
        "outputId": "7d8fbaf4-0f75-4a5c-8c24-bc1296f28984"
      },
      "source": [
        "# Create a sample sentences and tekenize it\n",
        "sample_sentence = \"Please Do Not Forget To Upvoted\"\n",
        "text_vectorizer([sample_sentence])"
      ],
      "id": "7a4fad08",
      "execution_count": 25,
      "outputs": [
        {
          "output_type": "execute_result",
          "data": {
            "text/plain": [
              "<tf.Tensor: shape=(1, 418), dtype=int64, numpy=\n",
              "array([[5305,  146,   26, 7344,    3,    1,    0,    0,    0,    0,    0,\n",
              "           0,    0,    0,    0,    0,    0,    0,    0,    0,    0,    0,\n",
              "           0,    0,    0,    0,    0,    0,    0,    0,    0,    0,    0,\n",
              "           0,    0,    0,    0,    0,    0,    0,    0,    0,    0,    0,\n",
              "           0,    0,    0,    0,    0,    0,    0,    0,    0,    0,    0,\n",
              "           0,    0,    0,    0,    0,    0,    0,    0,    0,    0,    0,\n",
              "           0,    0,    0,    0,    0,    0,    0,    0,    0,    0,    0,\n",
              "           0,    0,    0,    0,    0,    0,    0,    0,    0,    0,    0,\n",
              "           0,    0,    0,    0,    0,    0,    0,    0,    0,    0,    0,\n",
              "           0,    0,    0,    0,    0,    0,    0,    0,    0,    0,    0,\n",
              "           0,    0,    0,    0,    0,    0,    0,    0,    0,    0,    0,\n",
              "           0,    0,    0,    0,    0,    0,    0,    0,    0,    0,    0,\n",
              "           0,    0,    0,    0,    0,    0,    0,    0,    0,    0,    0,\n",
              "           0,    0,    0,    0,    0,    0,    0,    0,    0,    0,    0,\n",
              "           0,    0,    0,    0,    0,    0,    0,    0,    0,    0,    0,\n",
              "           0,    0,    0,    0,    0,    0,    0,    0,    0,    0,    0,\n",
              "           0,    0,    0,    0,    0,    0,    0,    0,    0,    0,    0,\n",
              "           0,    0,    0,    0,    0,    0,    0,    0,    0,    0,    0,\n",
              "           0,    0,    0,    0,    0,    0,    0,    0,    0,    0,    0,\n",
              "           0,    0,    0,    0,    0,    0,    0,    0,    0,    0,    0,\n",
              "           0,    0,    0,    0,    0,    0,    0,    0,    0,    0,    0,\n",
              "           0,    0,    0,    0,    0,    0,    0,    0,    0,    0,    0,\n",
              "           0,    0,    0,    0,    0,    0,    0,    0,    0,    0,    0,\n",
              "           0,    0,    0,    0,    0,    0,    0,    0,    0,    0,    0,\n",
              "           0,    0,    0,    0,    0,    0,    0,    0,    0,    0,    0,\n",
              "           0,    0,    0,    0,    0,    0,    0,    0,    0,    0,    0,\n",
              "           0,    0,    0,    0,    0,    0,    0,    0,    0,    0,    0,\n",
              "           0,    0,    0,    0,    0,    0,    0,    0,    0,    0,    0,\n",
              "           0,    0,    0,    0,    0,    0,    0,    0,    0,    0,    0,\n",
              "           0,    0,    0,    0,    0,    0,    0,    0,    0,    0,    0,\n",
              "           0,    0,    0,    0,    0,    0,    0,    0,    0,    0,    0,\n",
              "           0,    0,    0,    0,    0,    0,    0,    0,    0,    0,    0,\n",
              "           0,    0,    0,    0,    0,    0,    0,    0,    0,    0,    0,\n",
              "           0,    0,    0,    0,    0,    0,    0,    0,    0,    0,    0,\n",
              "           0,    0,    0,    0,    0,    0,    0,    0,    0,    0,    0,\n",
              "           0,    0,    0,    0,    0,    0,    0,    0,    0,    0,    0,\n",
              "           0,    0,    0,    0,    0,    0,    0,    0,    0,    0,    0,\n",
              "           0,    0,    0,    0,    0,    0,    0,    0,    0,    0,    0]])>"
            ]
          },
          "metadata": {
            "tags": []
          },
          "execution_count": 25
        }
      ]
    },
    {
      "cell_type": "code",
      "metadata": {
        "execution": {
          "iopub.execute_input": "2021-08-09T09:42:09.452227Z",
          "iopub.status.busy": "2021-08-09T09:42:09.451697Z",
          "iopub.status.idle": "2021-08-09T09:42:09.467035Z",
          "shell.execute_reply": "2021-08-09T09:42:09.467558Z",
          "shell.execute_reply.started": "2021-08-09T09:30:48.912347Z"
        },
        "papermill": {
          "duration": 0.06108,
          "end_time": "2021-08-09T09:42:09.467699",
          "exception": false,
          "start_time": "2021-08-09T09:42:09.406619",
          "status": "completed"
        },
        "tags": [],
        "colab": {
          "base_uri": "https://localhost:8080/"
        },
        "id": "85e0fc8b",
        "outputId": "6589ec66-e84c-484a-b531-46dd75b00fe1"
      },
      "source": [
        "# choose a random sentence from the training dataset and tokeize it\n",
        "import random\n",
        "random_sentence = random.choice(train_sentences)\n",
        "print(f\"Original text;\\n{random_sentence}\\\n",
        "\\n\\n Vectorized Version:\")\n",
        "text_vectorizer([random_sentence])"
      ],
      "id": "85e0fc8b",
      "execution_count": 26,
      "outputs": [
        {
          "output_type": "stream",
          "text": [
            "Original text;\n",
            "Japan PM and U.S. president discuss North Korea's missile launches: mediaTOKYO (Reuters) - Japanese Prime Minister Shinzo Abe and U.S. President Donald Trump discussed North Korea’s missile launches during a phone call on Tuesday, the Jiji and Kyodo news agencies reported on Tuesday. North Korea fired four ballistic missiles into the sea off Japan’s northwest coast on Monday, angering South Korea and Japan, days after it promised retaliation over U.S.-South Korea military drills it sees as preparation for war. \n",
            "\n",
            " Vectorized Version:\n"
          ],
          "name": "stdout"
        },
        {
          "output_type": "execute_result",
          "data": {
            "text/plain": [
              "<tf.Tensor: shape=(1, 418), dtype=int64, numpy=\n",
              "array([[ 509, 1336,    7,   22,   37,  667,   76, 5742,  341, 4239,    1,\n",
              "          32, 1267,  225,   93, 3109, 1119,    7,   22,   37,   83,   18,\n",
              "        1049,   76, 2410,  341, 4239,  123,    5,  987,  353,    8,  112,\n",
              "           2,    1,    7,    1,  165,  542,  285,    8,  112,   76,  120,\n",
              "         897,  314, 1141, 1175,   89,    2,  802,  297, 5431, 4334, 1524,\n",
              "           8,  135, 8747,  172,  120,    7,  509,  273,   41,   21, 1074,\n",
              "        3323,   58, 9670,  120,  101, 3258,   21, 1893,   17, 6672,   11,\n",
              "         204,    0,    0,    0,    0,    0,    0,    0,    0,    0,    0,\n",
              "           0,    0,    0,    0,    0,    0,    0,    0,    0,    0,    0,\n",
              "           0,    0,    0,    0,    0,    0,    0,    0,    0,    0,    0,\n",
              "           0,    0,    0,    0,    0,    0,    0,    0,    0,    0,    0,\n",
              "           0,    0,    0,    0,    0,    0,    0,    0,    0,    0,    0,\n",
              "           0,    0,    0,    0,    0,    0,    0,    0,    0,    0,    0,\n",
              "           0,    0,    0,    0,    0,    0,    0,    0,    0,    0,    0,\n",
              "           0,    0,    0,    0,    0,    0,    0,    0,    0,    0,    0,\n",
              "           0,    0,    0,    0,    0,    0,    0,    0,    0,    0,    0,\n",
              "           0,    0,    0,    0,    0,    0,    0,    0,    0,    0,    0,\n",
              "           0,    0,    0,    0,    0,    0,    0,    0,    0,    0,    0,\n",
              "           0,    0,    0,    0,    0,    0,    0,    0,    0,    0,    0,\n",
              "           0,    0,    0,    0,    0,    0,    0,    0,    0,    0,    0,\n",
              "           0,    0,    0,    0,    0,    0,    0,    0,    0,    0,    0,\n",
              "           0,    0,    0,    0,    0,    0,    0,    0,    0,    0,    0,\n",
              "           0,    0,    0,    0,    0,    0,    0,    0,    0,    0,    0,\n",
              "           0,    0,    0,    0,    0,    0,    0,    0,    0,    0,    0,\n",
              "           0,    0,    0,    0,    0,    0,    0,    0,    0,    0,    0,\n",
              "           0,    0,    0,    0,    0,    0,    0,    0,    0,    0,    0,\n",
              "           0,    0,    0,    0,    0,    0,    0,    0,    0,    0,    0,\n",
              "           0,    0,    0,    0,    0,    0,    0,    0,    0,    0,    0,\n",
              "           0,    0,    0,    0,    0,    0,    0,    0,    0,    0,    0,\n",
              "           0,    0,    0,    0,    0,    0,    0,    0,    0,    0,    0,\n",
              "           0,    0,    0,    0,    0,    0,    0,    0,    0,    0,    0,\n",
              "           0,    0,    0,    0,    0,    0,    0,    0,    0,    0,    0,\n",
              "           0,    0,    0,    0,    0,    0,    0,    0,    0,    0,    0,\n",
              "           0,    0,    0,    0,    0,    0,    0,    0,    0,    0,    0,\n",
              "           0,    0,    0,    0,    0,    0,    0,    0,    0,    0,    0,\n",
              "           0,    0,    0,    0,    0,    0,    0,    0,    0,    0,    0,\n",
              "           0,    0,    0,    0,    0,    0,    0,    0,    0,    0,    0,\n",
              "           0,    0,    0,    0,    0,    0,    0,    0,    0,    0,    0]])>"
            ]
          },
          "metadata": {
            "tags": []
          },
          "execution_count": 26
        }
      ]
    },
    {
      "cell_type": "code",
      "metadata": {
        "execution": {
          "iopub.execute_input": "2021-08-09T09:42:09.555225Z",
          "iopub.status.busy": "2021-08-09T09:42:09.554441Z",
          "iopub.status.idle": "2021-08-09T09:42:09.579993Z",
          "shell.execute_reply": "2021-08-09T09:42:09.579583Z"
        },
        "papermill": {
          "duration": 0.070467,
          "end_time": "2021-08-09T09:42:09.580102",
          "exception": false,
          "start_time": "2021-08-09T09:42:09.509635",
          "status": "completed"
        },
        "tags": [],
        "colab": {
          "base_uri": "https://localhost:8080/"
        },
        "id": "e8fa72f2",
        "outputId": "16acbb27-ad75-4dfc-db2b-8e6aa0c768ff"
      },
      "source": [
        "words = text_vectorizer.get_vocabulary()\n",
        "len(words)"
      ],
      "id": "e8fa72f2",
      "execution_count": 27,
      "outputs": [
        {
          "output_type": "execute_result",
          "data": {
            "text/plain": [
              "10000"
            ]
          },
          "metadata": {
            "tags": []
          },
          "execution_count": 27
        }
      ]
    },
    {
      "cell_type": "markdown",
      "metadata": {
        "papermill": {
          "duration": 0.042091,
          "end_time": "2021-08-09T09:42:09.664843",
          "exception": false,
          "start_time": "2021-08-09T09:42:09.622752",
          "status": "completed"
        },
        "tags": [],
        "id": "41279add"
      },
      "source": [
        "## Creating an Embedding using an Embedding Layer\n",
        "To make our embedding we're going to use TensorFlow's embedding layer\n",
        "\n",
        "The parameters we care most about for our embedding layer:\n",
        "\n",
        "* input_dim = the size of our vocabulary\n",
        "* output_dim = the size of output embedding vector, for example, a value of 100 would mean each token gets represented by a vector 100 long\n",
        "* input_length = length of the sequences being passed to be embedding layer"
      ],
      "id": "41279add"
    },
    {
      "cell_type": "code",
      "metadata": {
        "execution": {
          "iopub.execute_input": "2021-08-09T09:42:09.757402Z",
          "iopub.status.busy": "2021-08-09T09:42:09.756732Z",
          "iopub.status.idle": "2021-08-09T09:42:09.760277Z",
          "shell.execute_reply": "2021-08-09T09:42:09.760713Z",
          "shell.execute_reply.started": "2021-08-09T09:30:59.602944Z"
        },
        "papermill": {
          "duration": 0.054197,
          "end_time": "2021-08-09T09:42:09.760862",
          "exception": false,
          "start_time": "2021-08-09T09:42:09.706665",
          "status": "completed"
        },
        "tags": [],
        "colab": {
          "base_uri": "https://localhost:8080/"
        },
        "id": "46981dcb",
        "outputId": "1881558b-3811-452a-f600-86abc8694fe8"
      },
      "source": [
        "from tensorflow.keras import layers\n",
        "\n",
        "embedding = layers.Embedding(input_dim=max_vocab_length,\n",
        "                            output_dim=128,\n",
        "                            embeddings_initializer='uniform',\n",
        "                            input_length=max_length)\n",
        "embedding"
      ],
      "id": "46981dcb",
      "execution_count": 28,
      "outputs": [
        {
          "output_type": "execute_result",
          "data": {
            "text/plain": [
              "<tensorflow.python.keras.layers.embeddings.Embedding at 0x7fc62a9dfa90>"
            ]
          },
          "metadata": {
            "tags": []
          },
          "execution_count": 28
        }
      ]
    },
    {
      "cell_type": "code",
      "metadata": {
        "execution": {
          "iopub.execute_input": "2021-08-09T09:42:09.854389Z",
          "iopub.status.busy": "2021-08-09T09:42:09.853701Z",
          "iopub.status.idle": "2021-08-09T09:42:09.896006Z",
          "shell.execute_reply": "2021-08-09T09:42:09.895384Z",
          "shell.execute_reply.started": "2021-08-09T09:30:59.613826Z"
        },
        "papermill": {
          "duration": 0.091239,
          "end_time": "2021-08-09T09:42:09.896145",
          "exception": false,
          "start_time": "2021-08-09T09:42:09.804906",
          "status": "completed"
        },
        "tags": [],
        "colab": {
          "base_uri": "https://localhost:8080/"
        },
        "id": "d82869fd",
        "outputId": "d128c78d-3f7c-4255-8861-3acffcc4b94c"
      },
      "source": [
        "# Get a random sentence from the training set\n",
        "random_sentenc = random.choice(train_sentences)\n",
        "print(f\"Original text:\\n{random_sentence}\\\n",
        "      \\n\\nEmbedd version: \")\n",
        "embedding(text_vectorizer([random_sentence]))"
      ],
      "id": "d82869fd",
      "execution_count": 29,
      "outputs": [
        {
          "output_type": "stream",
          "text": [
            "Original text:\n",
            "Japan PM and U.S. president discuss North Korea's missile launches: mediaTOKYO (Reuters) - Japanese Prime Minister Shinzo Abe and U.S. President Donald Trump discussed North Korea’s missile launches during a phone call on Tuesday, the Jiji and Kyodo news agencies reported on Tuesday. North Korea fired four ballistic missiles into the sea off Japan’s northwest coast on Monday, angering South Korea and Japan, days after it promised retaliation over U.S.-South Korea military drills it sees as preparation for war.       \n",
            "\n",
            "Embedd version: \n"
          ],
          "name": "stdout"
        },
        {
          "output_type": "execute_result",
          "data": {
            "text/plain": [
              "<tf.Tensor: shape=(1, 418, 128), dtype=float32, numpy=\n",
              "array([[[ 0.00044893, -0.0235617 ,  0.00494645, ...,  0.04428894,\n",
              "          0.03473036, -0.04655664],\n",
              "        [-0.0002218 , -0.04033143, -0.01394868, ...,  0.02464292,\n",
              "         -0.04852405, -0.02552166],\n",
              "        [-0.04509643,  0.00209938, -0.01471406, ...,  0.03566981,\n",
              "          0.01707724,  0.01411429],\n",
              "        ...,\n",
              "        [ 0.00803437,  0.00078448,  0.01724854, ..., -0.03408003,\n",
              "         -0.04497719,  0.01995859],\n",
              "        [ 0.00803437,  0.00078448,  0.01724854, ..., -0.03408003,\n",
              "         -0.04497719,  0.01995859],\n",
              "        [ 0.00803437,  0.00078448,  0.01724854, ..., -0.03408003,\n",
              "         -0.04497719,  0.01995859]]], dtype=float32)>"
            ]
          },
          "metadata": {
            "tags": []
          },
          "execution_count": 29
        }
      ]
    },
    {
      "cell_type": "markdown",
      "metadata": {
        "papermill": {
          "duration": 0.043737,
          "end_time": "2021-08-09T09:42:09.988620",
          "exception": false,
          "start_time": "2021-08-09T09:42:09.944883",
          "status": "completed"
        },
        "tags": [],
        "id": "ca849ae7"
      },
      "source": [
        "## Modelling"
      ],
      "id": "ca849ae7"
    },
    {
      "cell_type": "markdown",
      "metadata": {
        "papermill": {
          "duration": 0.042761,
          "end_time": "2021-08-09T09:42:10.074934",
          "exception": false,
          "start_time": "2021-08-09T09:42:10.032173",
          "status": "completed"
        },
        "tags": [],
        "id": "e69717b2"
      },
      "source": [
        "We will be using LSTM(long-short term memory) neural network."
      ],
      "id": "e69717b2"
    },
    {
      "cell_type": "code",
      "metadata": {
        "execution": {
          "iopub.execute_input": "2021-08-09T09:42:10.169871Z",
          "iopub.status.busy": "2021-08-09T09:42:10.168908Z",
          "iopub.status.idle": "2021-08-09T09:42:10.457368Z",
          "shell.execute_reply": "2021-08-09T09:42:10.457775Z",
          "shell.execute_reply.started": "2021-08-09T09:36:09.122541Z"
        },
        "papermill": {
          "duration": 0.340088,
          "end_time": "2021-08-09T09:42:10.457938",
          "exception": false,
          "start_time": "2021-08-09T09:42:10.117850",
          "status": "completed"
        },
        "tags": [],
        "id": "6b8dce0e"
      },
      "source": [
        "# Create an LSTM model\n",
        "from tensorflow.keras import layers\n",
        "inputs = layers.Input(shape=(1,),dtype='string')\n",
        "\n",
        "# Pass inputs to text_vectorizer(convert text into numbers)\n",
        "x = text_vectorizer(inputs) \n",
        "\n",
        "# Convert text_vectorizer layer into embedding layer\n",
        "x = embedding(x)\n",
        "\n",
        "# Model \n",
        "x = layers.LSTM(64)(x)\n",
        "\n",
        "\n",
        "# output\n",
        "outputs = layers.Dense(1, activation='sigmoid')(x)\n",
        "\n",
        "# Pass inputs and outputs to our model\n",
        "model = tf.keras.Model(inputs, outputs, name='model_LSTM')"
      ],
      "id": "6b8dce0e",
      "execution_count": 30,
      "outputs": []
    },
    {
      "cell_type": "code",
      "metadata": {
        "execution": {
          "iopub.execute_input": "2021-08-09T09:42:10.549535Z",
          "iopub.status.busy": "2021-08-09T09:42:10.548354Z",
          "iopub.status.idle": "2021-08-09T09:42:10.556625Z",
          "shell.execute_reply": "2021-08-09T09:42:10.557243Z",
          "shell.execute_reply.started": "2021-08-09T09:36:13.012638Z"
        },
        "papermill": {
          "duration": 0.05607,
          "end_time": "2021-08-09T09:42:10.557410",
          "exception": false,
          "start_time": "2021-08-09T09:42:10.501340",
          "status": "completed"
        },
        "tags": [],
        "colab": {
          "base_uri": "https://localhost:8080/"
        },
        "id": "d394b877",
        "outputId": "4417f2e9-e202-4b68-a367-05489e6bcdca"
      },
      "source": [
        "# Get a summary\n",
        "model.summary()"
      ],
      "id": "d394b877",
      "execution_count": 31,
      "outputs": [
        {
          "output_type": "stream",
          "text": [
            "Model: \"model_LSTM\"\n",
            "_________________________________________________________________\n",
            "Layer (type)                 Output Shape              Param #   \n",
            "=================================================================\n",
            "input_1 (InputLayer)         [(None, 1)]               0         \n",
            "_________________________________________________________________\n",
            "text_vectorization (TextVect (None, 418)               0         \n",
            "_________________________________________________________________\n",
            "embedding (Embedding)        (None, 418, 128)          1280000   \n",
            "_________________________________________________________________\n",
            "lstm (LSTM)                  (None, 64)                49408     \n",
            "_________________________________________________________________\n",
            "dense (Dense)                (None, 1)                 65        \n",
            "=================================================================\n",
            "Total params: 1,329,473\n",
            "Trainable params: 1,329,473\n",
            "Non-trainable params: 0\n",
            "_________________________________________________________________\n"
          ],
          "name": "stdout"
        }
      ]
    },
    {
      "cell_type": "code",
      "metadata": {
        "execution": {
          "iopub.execute_input": "2021-08-09T09:42:10.655245Z",
          "iopub.status.busy": "2021-08-09T09:42:10.654720Z",
          "iopub.status.idle": "2021-08-09T09:42:10.661234Z",
          "shell.execute_reply": "2021-08-09T09:42:10.661634Z",
          "shell.execute_reply.started": "2021-08-09T09:36:18.563326Z"
        },
        "papermill": {
          "duration": 0.059718,
          "end_time": "2021-08-09T09:42:10.661754",
          "exception": false,
          "start_time": "2021-08-09T09:42:10.602036",
          "status": "completed"
        },
        "tags": [],
        "id": "05d7ca6f"
      },
      "source": [
        "# Compile the model\n",
        "model.compile(loss='binary_crossentropy',\n",
        "             optimizer=tf.keras.optimizers.Adam(),\n",
        "             metrics=['accuracy'])"
      ],
      "id": "05d7ca6f",
      "execution_count": 32,
      "outputs": []
    },
    {
      "cell_type": "code",
      "metadata": {
        "execution": {
          "iopub.execute_input": "2021-08-09T09:42:10.752828Z",
          "iopub.status.busy": "2021-08-09T09:42:10.751896Z",
          "iopub.status.idle": "2021-08-09T09:45:56.948461Z",
          "shell.execute_reply": "2021-08-09T09:45:56.948930Z",
          "shell.execute_reply.started": "2021-08-09T09:36:22.537609Z"
        },
        "papermill": {
          "duration": 226.244197,
          "end_time": "2021-08-09T09:45:56.949122",
          "exception": false,
          "start_time": "2021-08-09T09:42:10.704925",
          "status": "completed"
        },
        "tags": [],
        "colab": {
          "base_uri": "https://localhost:8080/"
        },
        "id": "6a1129f1",
        "outputId": "d1909ca3-ca75-4503-8e64-50f7d859cd0b"
      },
      "source": [
        "# Fit the model\n",
        "model_history = model.fit(train_sentences,\n",
        "                         train_labels,\n",
        "                          epochs=5,\n",
        "                         validation_data=(val_sentences, val_labels))"
      ],
      "id": "6a1129f1",
      "execution_count": 33,
      "outputs": [
        {
          "output_type": "stream",
          "text": [
            "Epoch 1/5\n",
            "1071/1071 [==============================] - 124s 110ms/step - loss: 0.6935 - accuracy: 0.4961 - val_loss: 0.6931 - val_accuracy: 0.5043\n",
            "Epoch 2/5\n",
            "1071/1071 [==============================] - 117s 109ms/step - loss: 0.6933 - accuracy: 0.4992 - val_loss: 0.6931 - val_accuracy: 0.5023\n",
            "Epoch 3/5\n",
            "1071/1071 [==============================] - 116s 108ms/step - loss: 0.6933 - accuracy: 0.4977 - val_loss: 0.6931 - val_accuracy: 0.5037\n",
            "Epoch 4/5\n",
            "1071/1071 [==============================] - 116s 108ms/step - loss: 0.6932 - accuracy: 0.5040 - val_loss: 0.6933 - val_accuracy: 0.4973\n",
            "Epoch 5/5\n",
            "1071/1071 [==============================] - 116s 109ms/step - loss: 0.6932 - accuracy: 0.4986 - val_loss: 0.6931 - val_accuracy: 0.5073\n"
          ],
          "name": "stdout"
        }
      ]
    },
    {
      "cell_type": "markdown",
      "metadata": {
        "papermill": {
          "duration": 0.841037,
          "end_time": "2021-08-09T09:45:58.624774",
          "exception": false,
          "start_time": "2021-08-09T09:45:57.783737",
          "status": "completed"
        },
        "tags": [],
        "id": "23ce5913"
      },
      "source": [
        "**We got 99% accuracy on valid data**"
      ],
      "id": "23ce5913"
    },
    {
      "cell_type": "code",
      "metadata": {
        "execution": {
          "iopub.execute_input": "2021-08-09T09:46:01.178520Z",
          "iopub.status.busy": "2021-08-09T09:46:01.177418Z",
          "iopub.status.idle": "2021-08-09T09:46:04.425376Z",
          "shell.execute_reply": "2021-08-09T09:46:04.426253Z",
          "shell.execute_reply.started": "2021-08-09T09:34:48.777472Z"
        },
        "papermill": {
          "duration": 4.119197,
          "end_time": "2021-08-09T09:46:04.426460",
          "exception": false,
          "start_time": "2021-08-09T09:46:00.307263",
          "status": "completed"
        },
        "tags": [],
        "colab": {
          "base_uri": "https://localhost:8080/"
        },
        "id": "c96aff1b",
        "outputId": "7bb6d12d-a4d6-4b84-c986-a69b5b7d1532"
      },
      "source": [
        "# Make predictions \n",
        "model_prediction = model.predict(val_sentences)\n",
        "model_prediction[:10]"
      ],
      "id": "c96aff1b",
      "execution_count": 34,
      "outputs": [
        {
          "output_type": "execute_result",
          "data": {
            "text/plain": [
              "array([[0.49264273],\n",
              "       [0.49264285],\n",
              "       [0.49264464],\n",
              "       [0.49195856],\n",
              "       [0.49264285],\n",
              "       [0.49351615],\n",
              "       [0.49264285],\n",
              "       [0.49264285],\n",
              "       [0.49264285],\n",
              "       [0.49277017]], dtype=float32)"
            ]
          },
          "metadata": {
            "tags": []
          },
          "execution_count": 34
        }
      ]
    },
    {
      "cell_type": "code",
      "metadata": {
        "execution": {
          "iopub.execute_input": "2021-08-09T09:46:06.172767Z",
          "iopub.status.busy": "2021-08-09T09:46:06.172000Z",
          "iopub.status.idle": "2021-08-09T09:46:06.181346Z",
          "shell.execute_reply": "2021-08-09T09:46:06.180888Z",
          "shell.execute_reply.started": "2021-08-09T09:34:52.131212Z"
        },
        "papermill": {
          "duration": 0.878711,
          "end_time": "2021-08-09T09:46:06.181470",
          "exception": false,
          "start_time": "2021-08-09T09:46:05.302759",
          "status": "completed"
        },
        "tags": [],
        "colab": {
          "base_uri": "https://localhost:8080/"
        },
        "id": "a97a144d",
        "outputId": "dd89d0b5-b1a9-459a-e617-57f7daf55297"
      },
      "source": [
        "# Convert model prediction to our val_labels\n",
        "model_preds = tf.squeeze(tf.round(model_prediction))\n",
        "model_preds[:10]"
      ],
      "id": "a97a144d",
      "execution_count": 35,
      "outputs": [
        {
          "output_type": "execute_result",
          "data": {
            "text/plain": [
              "<tf.Tensor: shape=(10,), dtype=float32, numpy=array([0., 0., 0., 0., 0., 0., 0., 0., 0., 0.], dtype=float32)>"
            ]
          },
          "metadata": {
            "tags": []
          },
          "execution_count": 35
        }
      ]
    },
    {
      "cell_type": "code",
      "metadata": {
        "execution": {
          "iopub.execute_input": "2021-08-09T09:46:07.862026Z",
          "iopub.status.busy": "2021-08-09T09:46:07.861454Z",
          "iopub.status.idle": "2021-08-09T09:46:07.883679Z",
          "shell.execute_reply": "2021-08-09T09:46:07.882925Z",
          "shell.execute_reply.started": "2021-08-09T09:34:52.143482Z"
        },
        "papermill": {
          "duration": 0.860651,
          "end_time": "2021-08-09T09:46:07.883857",
          "exception": false,
          "start_time": "2021-08-09T09:46:07.023206",
          "status": "completed"
        },
        "tags": [],
        "colab": {
          "base_uri": "https://localhost:8080/"
        },
        "id": "dd322432",
        "outputId": "c62af001-166e-4c4e-d1f5-54f4b0d0d038"
      },
      "source": [
        "# Evaluatinon metrics\n",
        "from sklearn.metrics import accuracy_score, recall_score,precision_score, f1_score\n",
        "\n",
        "print(f\"Accuracy Score: {accuracy_score(val_labels,model_preds)}\")\n",
        "print(f\"Recall Score : {recall_score(val_labels, model_preds)}\")\n",
        "print(f\"Precsion Score : {precision_score(val_labels, model_preds)}\")\n",
        "print(f\"f1 Score : {f1_score(val_labels, model_preds)}\")"
      ],
      "id": "dd322432",
      "execution_count": 36,
      "outputs": [
        {
          "output_type": "stream",
          "text": [
            "Accuracy Score: 0.5072954359752538\n",
            "Recall Score : 0.09129213483146068\n",
            "Precsion Score : 0.5349794238683128\n",
            "f1 Score : 0.15596880623875223\n"
          ],
          "name": "stdout"
        }
      ]
    },
    {
      "cell_type": "markdown",
      "metadata": {
        "papermill": {
          "duration": 0.833745,
          "end_time": "2021-08-09T09:46:09.552721",
          "exception": false,
          "start_time": "2021-08-09T09:46:08.718976",
          "status": "completed"
        },
        "tags": [],
        "id": "42b79184"
      },
      "source": [
        "**References for Feature Engineering and EDA**: https://www.kaggle.com/suvofalcon/fake-real-news-tensorflow-hub-99-accuracy"
      ],
      "id": "42b79184"
    },
    {
      "cell_type": "code",
      "metadata": {
        "papermill": {
          "duration": 0.833082,
          "end_time": "2021-08-09T09:46:11.469570",
          "exception": false,
          "start_time": "2021-08-09T09:46:10.636488",
          "status": "completed"
        },
        "tags": [],
        "id": "21e761e6"
      },
      "source": [
        ""
      ],
      "id": "21e761e6",
      "execution_count": 36,
      "outputs": []
    }
  ]
}